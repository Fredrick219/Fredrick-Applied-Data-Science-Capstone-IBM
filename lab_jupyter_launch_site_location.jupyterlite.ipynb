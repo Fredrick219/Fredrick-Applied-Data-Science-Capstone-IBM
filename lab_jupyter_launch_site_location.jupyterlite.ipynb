{
  "metadata": {
    "kernelspec": {
      "name": "python",
      "display_name": "Python (Pyodide)",
      "language": "python"
    },
    "language_info": {
      "codemirror_mode": {
        "name": "python",
        "version": 3
      },
      "file_extension": ".py",
      "mimetype": "text/x-python",
      "name": "python",
      "nbconvert_exporter": "python",
      "pygments_lexer": "ipython3",
      "version": "3.8"
    }
  },
  "nbformat_minor": 4,
  "nbformat": 4,
  "cells": [
    {
      "cell_type": "markdown",
      "source": "<p style=\"text-align:center\">\n    <a href=\"https://skills.network/?utm_medium=Exinfluencer&utm_source=Exinfluencer&utm_content=000026UJ&utm_term=10006555&utm_id=NA-SkillsNetwork-Channel-SkillsNetworkCoursesIBMDS0321ENSkillsNetwork26802033-2022-01-01\" target=\"_blank\">\n    <img src=\"https://cf-courses-data.s3.us.cloud-object-storage.appdomain.cloud/assets/logos/SN_web_lightmode.png\" width=\"200\" alt=\"Skills Network Logo\"  />\n    </a>\n</p>\n",
      "metadata": {}
    },
    {
      "cell_type": "markdown",
      "source": "# **Launch Sites Locations Analysis with Folium**\n",
      "metadata": {}
    },
    {
      "cell_type": "markdown",
      "source": "Estimated time needed: **40** minutes\n",
      "metadata": {}
    },
    {
      "cell_type": "markdown",
      "source": "The launch success rate may depend on many factors such as payload mass, orbit type, and so on. It may also depend on the location and proximities of a launch site, i.e., the initial position of rocket trajectories. Finding an optimal location for building a launch site certainly involves many factors and hopefully we could discover some of the factors by analyzing the existing launch site locations.\n",
      "metadata": {}
    },
    {
      "cell_type": "markdown",
      "source": "In the previous exploratory data analysis labs, you have visualized the SpaceX launch dataset using `matplotlib` and `seaborn` and discovered some preliminary correlations between the launch site and success rates. In this lab, you will be performing more interactive visual analytics using `Folium`.\n",
      "metadata": {}
    },
    {
      "cell_type": "markdown",
      "source": "## Objectives\n",
      "metadata": {}
    },
    {
      "cell_type": "markdown",
      "source": "This lab contains the following tasks:\n\n*   **TASK 1:** Mark all launch sites on a map\n*   **TASK 2:** Mark the success/failed launches for each site on the map\n*   **TASK 3:** Calculate the distances between a launch site to its proximities\n\nAfter completed the above tasks, you should be able to find some geographical patterns about launch sites.\n",
      "metadata": {}
    },
    {
      "cell_type": "markdown",
      "source": "Let's first import required Python packages for this lab:\n",
      "metadata": {}
    },
    {
      "cell_type": "code",
      "source": "import piplite\nawait piplite.install(['folium'])\nawait piplite.install(['pandas'])",
      "metadata": {
        "trusted": true
      },
      "outputs": [],
      "execution_count": 24
    },
    {
      "cell_type": "code",
      "source": "import folium\nimport pandas as pd",
      "metadata": {
        "trusted": true
      },
      "outputs": [],
      "execution_count": 25
    },
    {
      "cell_type": "code",
      "source": "# Import folium MarkerCluster plugin\nfrom folium.plugins import MarkerCluster\n# Import folium MousePosition plugin\nfrom folium.plugins import MousePosition\n# Import folium DivIcon plugin\nfrom folium.features import DivIcon",
      "metadata": {
        "trusted": true
      },
      "outputs": [],
      "execution_count": 26
    },
    {
      "cell_type": "markdown",
      "source": "If you need to refresh your memory about folium, you may download and refer to this previous folium lab:\n",
      "metadata": {}
    },
    {
      "cell_type": "markdown",
      "source": "[Generating Maps with Python](https://cf-courses-data.s3.us.cloud-object-storage.appdomain.cloud/IBM-DS0321EN-SkillsNetwork/labs/module\\_3/DV0101EN-3-5-1-Generating-Maps-in-Python-py-v2.0.ipynb)\n",
      "metadata": {}
    },
    {
      "cell_type": "code",
      "source": "## Task 1: Mark all launch sites on a map\n",
      "metadata": {
        "trusted": true
      },
      "outputs": [],
      "execution_count": 27
    },
    {
      "cell_type": "markdown",
      "source": "First, let's try to add each site's location on a map using site's latitude and longitude coordinates\n",
      "metadata": {}
    },
    {
      "cell_type": "markdown",
      "source": "The following dataset with the name `spacex_launch_geo.csv` is an augmented dataset with latitude and longitude added for each site.\n",
      "metadata": {}
    },
    {
      "cell_type": "code",
      "source": "# Download and read the `spacex_launch_geo.csv`\nfrom js import fetch\nimport io\n\nURL = 'https://cf-courses-data.s3.us.cloud-object-storage.appdomain.cloud/IBM-DS0321EN-SkillsNetwork/datasets/spacex_launch_geo.csv'\nresp = await fetch(URL)\nspacex_csv_file = io.BytesIO((await resp.arrayBuffer()).to_py())\nspacex_df=pd.read_csv(spacex_csv_file)",
      "metadata": {
        "trusted": true
      },
      "outputs": [],
      "execution_count": 28
    },
    {
      "cell_type": "markdown",
      "source": "Now, you can take a look at what are the coordinates for each site.\n",
      "metadata": {}
    },
    {
      "cell_type": "code",
      "source": "# Select relevant sub-columns: `Launch Site`, `Lat(Latitude)`, `Long(Longitude)`, `class`\nspacex_df = spacex_df[['Launch Site', 'Lat', 'Long', 'class']]\nlaunch_sites_df = spacex_df.groupby(['Launch Site'], as_index=False).first()\nlaunch_sites_df = launch_sites_df[['Launch Site', 'Lat', 'Long']]\nlaunch_sites_df",
      "metadata": {
        "trusted": true
      },
      "outputs": [
        {
          "execution_count": 29,
          "output_type": "execute_result",
          "data": {
            "text/plain": "    Launch Site        Lat        Long\n0   CCAFS LC-40  28.562302  -80.577356\n1  CCAFS SLC-40  28.563197  -80.576820\n2    KSC LC-39A  28.573255  -80.646895\n3   VAFB SLC-4E  34.632834 -120.610745",
            "text/html": "<div>\n<style scoped>\n    .dataframe tbody tr th:only-of-type {\n        vertical-align: middle;\n    }\n\n    .dataframe tbody tr th {\n        vertical-align: top;\n    }\n\n    .dataframe thead th {\n        text-align: right;\n    }\n</style>\n<table border=\"1\" class=\"dataframe\">\n  <thead>\n    <tr style=\"text-align: right;\">\n      <th></th>\n      <th>Launch Site</th>\n      <th>Lat</th>\n      <th>Long</th>\n    </tr>\n  </thead>\n  <tbody>\n    <tr>\n      <th>0</th>\n      <td>CCAFS LC-40</td>\n      <td>28.562302</td>\n      <td>-80.577356</td>\n    </tr>\n    <tr>\n      <th>1</th>\n      <td>CCAFS SLC-40</td>\n      <td>28.563197</td>\n      <td>-80.576820</td>\n    </tr>\n    <tr>\n      <th>2</th>\n      <td>KSC LC-39A</td>\n      <td>28.573255</td>\n      <td>-80.646895</td>\n    </tr>\n    <tr>\n      <th>3</th>\n      <td>VAFB SLC-4E</td>\n      <td>34.632834</td>\n      <td>-120.610745</td>\n    </tr>\n  </tbody>\n</table>\n</div>"
          },
          "metadata": {}
        }
      ],
      "execution_count": 29
    },
    {
      "cell_type": "markdown",
      "source": "Above coordinates are just plain numbers that can not give you any intuitive insights about where are those launch sites. If you are very good at geography, you can interpret those numbers directly in your mind. If not, that's fine too. Let's visualize those locations by pinning them on a map.\n",
      "metadata": {}
    },
    {
      "cell_type": "markdown",
      "source": "We first need to create a folium `Map` object, with an initial center location to be NASA Johnson Space Center at Houston, Texas.\n",
      "metadata": {}
    },
    {
      "cell_type": "code",
      "source": "# Start location is NASA Johnson Space Center\nnasa_coordinate = [29.559684888503615, -95.0830971930759]\nsite_map = folium.Map(location=nasa_coordinate, zoom_start=10)",
      "metadata": {
        "trusted": true
      },
      "outputs": [],
      "execution_count": 30
    },
    {
      "cell_type": "markdown",
      "source": "We could use `folium.Circle` to add a highlighted circle area with a text label on a specific coordinate. For example,\n",
      "metadata": {}
    },
    {
      "cell_type": "code",
      "source": "# Create a blue circle at NASA Johnson Space Center's coordinate with a popup label showing its name\ncircle = folium.Circle(nasa_coordinate, radius=1000, color='#d35400', fill=True).add_child(folium.Popup('NASA Johnson Space Center'))\n# Create a blue circle at NASA Johnson Space Center's coordinate with a icon showing its name\nmarker = folium.map.Marker(\n    nasa_coordinate,\n    # Create an icon as a text label\n    icon=DivIcon(\n        icon_size=(20,20),\n        icon_anchor=(0,0),\n        html='<div style=\"font-size: 12; color:#d35400;\"><b>%s</b></div>' % 'NASA JSC',\n        )\n    )\nsite_map.add_child(circle)\nsite_map.add_child(marker)",
      "metadata": {
        "trusted": true
      },
      "outputs": [
        {
          "execution_count": 31,
          "output_type": "execute_result",
          "data": {
            "text/plain": "<folium.folium.Map at 0x59ad998>",
            "text/html": "<div style=\"width:100%;\"><div style=\"position:relative;width:100%;height:0;padding-bottom:60%;\"><span style=\"color:#565656\">Make this Notebook Trusted to load map: File -> Trust Notebook</span><iframe srcdoc=\"&lt;!DOCTYPE html&gt;\n&lt;html&gt;\n&lt;head&gt;\n    \n    &lt;meta http-equiv=&quot;content-type&quot; content=&quot;text/html; charset=UTF-8&quot; /&gt;\n    \n        &lt;script&gt;\n            L_NO_TOUCH = false;\n            L_DISABLE_3D = false;\n        &lt;/script&gt;\n    \n    &lt;style&gt;html, body {width: 100%;height: 100%;margin: 0;padding: 0;}&lt;/style&gt;\n    &lt;style&gt;#map {position:absolute;top:0;bottom:0;right:0;left:0;}&lt;/style&gt;\n    &lt;script src=&quot;https://cdn.jsdelivr.net/npm/leaflet@1.9.3/dist/leaflet.js&quot;&gt;&lt;/script&gt;\n    &lt;script src=&quot;https://code.jquery.com/jquery-3.7.1.min.js&quot;&gt;&lt;/script&gt;\n    &lt;script src=&quot;https://cdn.jsdelivr.net/npm/bootstrap@5.2.2/dist/js/bootstrap.bundle.min.js&quot;&gt;&lt;/script&gt;\n    &lt;script src=&quot;https://cdnjs.cloudflare.com/ajax/libs/Leaflet.awesome-markers/2.0.2/leaflet.awesome-markers.js&quot;&gt;&lt;/script&gt;\n    &lt;link rel=&quot;stylesheet&quot; href=&quot;https://cdn.jsdelivr.net/npm/leaflet@1.9.3/dist/leaflet.css&quot;/&gt;\n    &lt;link rel=&quot;stylesheet&quot; href=&quot;https://cdn.jsdelivr.net/npm/bootstrap@5.2.2/dist/css/bootstrap.min.css&quot;/&gt;\n    &lt;link rel=&quot;stylesheet&quot; href=&quot;https://netdna.bootstrapcdn.com/bootstrap/3.0.0/css/bootstrap.min.css&quot;/&gt;\n    &lt;link rel=&quot;stylesheet&quot; href=&quot;https://cdn.jsdelivr.net/npm/@fortawesome/fontawesome-free@6.2.0/css/all.min.css&quot;/&gt;\n    &lt;link rel=&quot;stylesheet&quot; href=&quot;https://cdnjs.cloudflare.com/ajax/libs/Leaflet.awesome-markers/2.0.2/leaflet.awesome-markers.css&quot;/&gt;\n    &lt;link rel=&quot;stylesheet&quot; href=&quot;https://cdn.jsdelivr.net/gh/python-visualization/folium/folium/templates/leaflet.awesome.rotate.min.css&quot;/&gt;\n    \n            &lt;meta name=&quot;viewport&quot; content=&quot;width=device-width,\n                initial-scale=1.0, maximum-scale=1.0, user-scalable=no&quot; /&gt;\n            &lt;style&gt;\n                #map_62c542de9ebf6a301006f0cee1517a6c {\n                    position: relative;\n                    width: 100.0%;\n                    height: 100.0%;\n                    left: 0.0%;\n                    top: 0.0%;\n                }\n                .leaflet-container { font-size: 1rem; }\n            &lt;/style&gt;\n        \n&lt;/head&gt;\n&lt;body&gt;\n    \n    \n            &lt;div class=&quot;folium-map&quot; id=&quot;map_62c542de9ebf6a301006f0cee1517a6c&quot; &gt;&lt;/div&gt;\n        \n&lt;/body&gt;\n&lt;script&gt;\n    \n    \n            var map_62c542de9ebf6a301006f0cee1517a6c = L.map(\n                &quot;map_62c542de9ebf6a301006f0cee1517a6c&quot;,\n                {\n                    center: [29.559684888503615, -95.0830971930759],\n                    crs: L.CRS.EPSG3857,\n                    zoom: 10,\n                    zoomControl: true,\n                    preferCanvas: false,\n                }\n            );\n\n            \n\n        \n    \n            var tile_layer_177cbb991c5fdbd0cdcb4716e171e4b9 = L.tileLayer(\n                &quot;https://tile.openstreetmap.org/{z}/{x}/{y}.png&quot;,\n                {&quot;attribution&quot;: &quot;\\u0026copy; \\u003ca href=\\&quot;https://www.openstreetmap.org/copyright\\&quot;\\u003eOpenStreetMap\\u003c/a\\u003e contributors&quot;, &quot;detectRetina&quot;: false, &quot;maxNativeZoom&quot;: 19, &quot;maxZoom&quot;: 19, &quot;minZoom&quot;: 0, &quot;noWrap&quot;: false, &quot;opacity&quot;: 1, &quot;subdomains&quot;: &quot;abc&quot;, &quot;tms&quot;: false}\n            );\n        \n    \n            tile_layer_177cbb991c5fdbd0cdcb4716e171e4b9.addTo(map_62c542de9ebf6a301006f0cee1517a6c);\n        \n    \n            var circle_65b24a04db6a63054c91f2f20e7e3d44 = L.circle(\n                [29.559684888503615, -95.0830971930759],\n                {&quot;bubblingMouseEvents&quot;: true, &quot;color&quot;: &quot;#d35400&quot;, &quot;dashArray&quot;: null, &quot;dashOffset&quot;: null, &quot;fill&quot;: true, &quot;fillColor&quot;: &quot;#d35400&quot;, &quot;fillOpacity&quot;: 0.2, &quot;fillRule&quot;: &quot;evenodd&quot;, &quot;lineCap&quot;: &quot;round&quot;, &quot;lineJoin&quot;: &quot;round&quot;, &quot;opacity&quot;: 1.0, &quot;radius&quot;: 1000, &quot;stroke&quot;: true, &quot;weight&quot;: 3}\n            ).addTo(map_62c542de9ebf6a301006f0cee1517a6c);\n        \n    \n        var popup_83e118a6e94c385c379e8e0ae8703b06 = L.popup({&quot;maxWidth&quot;: &quot;100%&quot;});\n\n        \n            \n                var html_1b041cde5ac7ded9e7d706798839f17e = $(`&lt;div id=&quot;html_1b041cde5ac7ded9e7d706798839f17e&quot; style=&quot;width: 100.0%; height: 100.0%;&quot;&gt;NASA Johnson Space Center&lt;/div&gt;`)[0];\n                popup_83e118a6e94c385c379e8e0ae8703b06.setContent(html_1b041cde5ac7ded9e7d706798839f17e);\n            \n        \n\n        circle_65b24a04db6a63054c91f2f20e7e3d44.bindPopup(popup_83e118a6e94c385c379e8e0ae8703b06)\n        ;\n\n        \n    \n    \n            var marker_f131d95bf2999d676e71c4caed8edc40 = L.marker(\n                [29.559684888503615, -95.0830971930759],\n                {}\n            ).addTo(map_62c542de9ebf6a301006f0cee1517a6c);\n        \n    \n            var div_icon_6187980c93d445925b0f8fb72a5279aa = L.divIcon({&quot;className&quot;: &quot;empty&quot;, &quot;html&quot;: &quot;\\u003cdiv style=\\&quot;font-size: 12; color:#d35400;\\&quot;\\u003e\\u003cb\\u003eNASA JSC\\u003c/b\\u003e\\u003c/div\\u003e&quot;, &quot;iconAnchor&quot;: [0, 0], &quot;iconSize&quot;: [20, 20]});\n            marker_f131d95bf2999d676e71c4caed8edc40.setIcon(div_icon_6187980c93d445925b0f8fb72a5279aa);\n        \n&lt;/script&gt;\n&lt;/html&gt;\" style=\"position:absolute;width:100%;height:100%;left:0;top:0;border:none !important;\" allowfullscreen webkitallowfullscreen mozallowfullscreen></iframe></div></div>"
          },
          "metadata": {}
        }
      ],
      "execution_count": 31
    },
    {
      "cell_type": "markdown",
      "source": "and you should find a small yellow circle near the city of Houston and you can zoom-in to see a larger circle.\n",
      "metadata": {}
    },
    {
      "cell_type": "markdown",
      "source": "Now, let's add a circle for each launch site in data frame `launch_sites`\n",
      "metadata": {}
    },
    {
      "cell_type": "markdown",
      "source": "*TODO:*  Create and add `folium.Circle` and `folium.Marker` for each launch site on the site map\n",
      "metadata": {}
    },
    {
      "cell_type": "markdown",
      "source": "An example of folium.Circle:\n",
      "metadata": {}
    },
    {
      "cell_type": "markdown",
      "source": "`folium.Circle(coordinate, radius=1000, color='#000000', fill=True).add_child(folium.Popup(...))`\n",
      "metadata": {}
    },
    {
      "cell_type": "markdown",
      "source": "An example of folium.Marker:\n",
      "metadata": {}
    },
    {
      "cell_type": "markdown",
      "source": "`folium.map.Marker(coordinate, icon=DivIcon(icon_size=(20,20),icon_anchor=(0,0), html='<div style=\"font-size: 12; color:#d35400;\"><b>%s</b></div>' % 'label', ))`\n",
      "metadata": {}
    },
    {
      "cell_type": "code",
      "source": "# Initial the map\nsite_map = folium.Map(location=nasa_coordinate, zoom_start=5)\n# For each launch site, add a Circle object based on its coordinate (Lat, Long) values. In addition, add Launch site name as a popup label\nfor index, site in launch_sites_df.iterrows():\n    # Extract the coordinates\n    coordinates = [site['Lat'], site['Long']]\n    \n    # Create a Circle for the launch site\n    circle = folium.Circle(coordinates, radius=1000, color='#000000', fill=True)\n    circle.add_child(folium.Popup(launch_site))  # Adding a Popup with the site name\n    \n    # Create a Marker for the launch site with a label\n    marker = folium.map.Marker(\n        coordinates,\n        icon=DivIcon(icon_size=(20, 20), icon_anchor=(0, 0), html=f'<div style=\"font-size: 12; color:#d35400;\"><b>{launch_site}</b></div>')\n    )\n    \n    # Add the Circle and Marker to the map\n    site_map.add_child(circle)\n    site_map.add_child(marker)\n    \nsite_map",
      "metadata": {
        "trusted": true
      },
      "outputs": [
        {
          "execution_count": 53,
          "output_type": "execute_result",
          "data": {
            "text/plain": "<folium.folium.Map at 0x6335070>",
            "text/html": "<div style=\"width:100%;\"><div style=\"position:relative;width:100%;height:0;padding-bottom:60%;\"><span style=\"color:#565656\">Make this Notebook Trusted to load map: File -> Trust Notebook</span><iframe srcdoc=\"&lt;!DOCTYPE html&gt;\n&lt;html&gt;\n&lt;head&gt;\n    \n    &lt;meta http-equiv=&quot;content-type&quot; content=&quot;text/html; charset=UTF-8&quot; /&gt;\n    \n        &lt;script&gt;\n            L_NO_TOUCH = false;\n            L_DISABLE_3D = false;\n        &lt;/script&gt;\n    \n    &lt;style&gt;html, body {width: 100%;height: 100%;margin: 0;padding: 0;}&lt;/style&gt;\n    &lt;style&gt;#map {position:absolute;top:0;bottom:0;right:0;left:0;}&lt;/style&gt;\n    &lt;script src=&quot;https://cdn.jsdelivr.net/npm/leaflet@1.9.3/dist/leaflet.js&quot;&gt;&lt;/script&gt;\n    &lt;script src=&quot;https://code.jquery.com/jquery-3.7.1.min.js&quot;&gt;&lt;/script&gt;\n    &lt;script src=&quot;https://cdn.jsdelivr.net/npm/bootstrap@5.2.2/dist/js/bootstrap.bundle.min.js&quot;&gt;&lt;/script&gt;\n    &lt;script src=&quot;https://cdnjs.cloudflare.com/ajax/libs/Leaflet.awesome-markers/2.0.2/leaflet.awesome-markers.js&quot;&gt;&lt;/script&gt;\n    &lt;link rel=&quot;stylesheet&quot; href=&quot;https://cdn.jsdelivr.net/npm/leaflet@1.9.3/dist/leaflet.css&quot;/&gt;\n    &lt;link rel=&quot;stylesheet&quot; href=&quot;https://cdn.jsdelivr.net/npm/bootstrap@5.2.2/dist/css/bootstrap.min.css&quot;/&gt;\n    &lt;link rel=&quot;stylesheet&quot; href=&quot;https://netdna.bootstrapcdn.com/bootstrap/3.0.0/css/bootstrap.min.css&quot;/&gt;\n    &lt;link rel=&quot;stylesheet&quot; href=&quot;https://cdn.jsdelivr.net/npm/@fortawesome/fontawesome-free@6.2.0/css/all.min.css&quot;/&gt;\n    &lt;link rel=&quot;stylesheet&quot; href=&quot;https://cdnjs.cloudflare.com/ajax/libs/Leaflet.awesome-markers/2.0.2/leaflet.awesome-markers.css&quot;/&gt;\n    &lt;link rel=&quot;stylesheet&quot; href=&quot;https://cdn.jsdelivr.net/gh/python-visualization/folium/folium/templates/leaflet.awesome.rotate.min.css&quot;/&gt;\n    \n            &lt;meta name=&quot;viewport&quot; content=&quot;width=device-width,\n                initial-scale=1.0, maximum-scale=1.0, user-scalable=no&quot; /&gt;\n            &lt;style&gt;\n                #map_4ea26a74aacbfd70b3d21b059a6b7b3a {\n                    position: relative;\n                    width: 100.0%;\n                    height: 100.0%;\n                    left: 0.0%;\n                    top: 0.0%;\n                }\n                .leaflet-container { font-size: 1rem; }\n            &lt;/style&gt;\n        \n&lt;/head&gt;\n&lt;body&gt;\n    \n    \n            &lt;div class=&quot;folium-map&quot; id=&quot;map_4ea26a74aacbfd70b3d21b059a6b7b3a&quot; &gt;&lt;/div&gt;\n        \n&lt;/body&gt;\n&lt;script&gt;\n    \n    \n            var map_4ea26a74aacbfd70b3d21b059a6b7b3a = L.map(\n                &quot;map_4ea26a74aacbfd70b3d21b059a6b7b3a&quot;,\n                {\n                    center: [29.559684888503615, -95.0830971930759],\n                    crs: L.CRS.EPSG3857,\n                    zoom: 5,\n                    zoomControl: true,\n                    preferCanvas: false,\n                }\n            );\n\n            \n\n        \n    \n            var tile_layer_457ba0a32799a89974b91a4f231dd447 = L.tileLayer(\n                &quot;https://tile.openstreetmap.org/{z}/{x}/{y}.png&quot;,\n                {&quot;attribution&quot;: &quot;\\u0026copy; \\u003ca href=\\&quot;https://www.openstreetmap.org/copyright\\&quot;\\u003eOpenStreetMap\\u003c/a\\u003e contributors&quot;, &quot;detectRetina&quot;: false, &quot;maxNativeZoom&quot;: 19, &quot;maxZoom&quot;: 19, &quot;minZoom&quot;: 0, &quot;noWrap&quot;: false, &quot;opacity&quot;: 1, &quot;subdomains&quot;: &quot;abc&quot;, &quot;tms&quot;: false}\n            );\n        \n    \n            tile_layer_457ba0a32799a89974b91a4f231dd447.addTo(map_4ea26a74aacbfd70b3d21b059a6b7b3a);\n        \n    \n            var circle_0f978469cfcf9d9b2fb839610a311d20 = L.circle(\n                [28.56230197, -80.57735648],\n                {&quot;bubblingMouseEvents&quot;: true, &quot;color&quot;: &quot;#000000&quot;, &quot;dashArray&quot;: null, &quot;dashOffset&quot;: null, &quot;fill&quot;: true, &quot;fillColor&quot;: &quot;#000000&quot;, &quot;fillOpacity&quot;: 0.2, &quot;fillRule&quot;: &quot;evenodd&quot;, &quot;lineCap&quot;: &quot;round&quot;, &quot;lineJoin&quot;: &quot;round&quot;, &quot;opacity&quot;: 1.0, &quot;radius&quot;: 1000, &quot;stroke&quot;: true, &quot;weight&quot;: 3}\n            ).addTo(map_4ea26a74aacbfd70b3d21b059a6b7b3a);\n        \n    \n        var popup_2bb5063b227e4522808f6b8cc42e2fa7 = L.popup({&quot;maxWidth&quot;: &quot;100%&quot;});\n\n        \n            \n                var html_864c3dcaa839a50c7b15c06d3d29460e = $(`&lt;div id=&quot;html_864c3dcaa839a50c7b15c06d3d29460e&quot; style=&quot;width: 100.0%; height: 100.0%;&quot;&gt;VAFB SLC-4E&lt;/div&gt;`)[0];\n                popup_2bb5063b227e4522808f6b8cc42e2fa7.setContent(html_864c3dcaa839a50c7b15c06d3d29460e);\n            \n        \n\n        circle_0f978469cfcf9d9b2fb839610a311d20.bindPopup(popup_2bb5063b227e4522808f6b8cc42e2fa7)\n        ;\n\n        \n    \n    \n            var marker_0fb1f844926e279bc0dc915e643ab22b = L.marker(\n                [28.56230197, -80.57735648],\n                {}\n            ).addTo(map_4ea26a74aacbfd70b3d21b059a6b7b3a);\n        \n    \n            var div_icon_3b162467a29baf644c4280b39768d8a7 = L.divIcon({&quot;className&quot;: &quot;empty&quot;, &quot;html&quot;: &quot;\\u003cdiv style=\\&quot;font-size: 12; color:#d35400;\\&quot;\\u003e\\u003cb\\u003eVAFB SLC-4E\\u003c/b\\u003e\\u003c/div\\u003e&quot;, &quot;iconAnchor&quot;: [0, 0], &quot;iconSize&quot;: [20, 20]});\n            marker_0fb1f844926e279bc0dc915e643ab22b.setIcon(div_icon_3b162467a29baf644c4280b39768d8a7);\n        \n    \n            var circle_f68a0e26bb87097b6a16bcda450bc764 = L.circle(\n                [28.56319718, -80.57682003],\n                {&quot;bubblingMouseEvents&quot;: true, &quot;color&quot;: &quot;#000000&quot;, &quot;dashArray&quot;: null, &quot;dashOffset&quot;: null, &quot;fill&quot;: true, &quot;fillColor&quot;: &quot;#000000&quot;, &quot;fillOpacity&quot;: 0.2, &quot;fillRule&quot;: &quot;evenodd&quot;, &quot;lineCap&quot;: &quot;round&quot;, &quot;lineJoin&quot;: &quot;round&quot;, &quot;opacity&quot;: 1.0, &quot;radius&quot;: 1000, &quot;stroke&quot;: true, &quot;weight&quot;: 3}\n            ).addTo(map_4ea26a74aacbfd70b3d21b059a6b7b3a);\n        \n    \n        var popup_15caadad17698b9f332a5a87242ec99e = L.popup({&quot;maxWidth&quot;: &quot;100%&quot;});\n\n        \n            \n                var html_6a6fb6ea2083d8bdeb539f2dd1d0679f = $(`&lt;div id=&quot;html_6a6fb6ea2083d8bdeb539f2dd1d0679f&quot; style=&quot;width: 100.0%; height: 100.0%;&quot;&gt;VAFB SLC-4E&lt;/div&gt;`)[0];\n                popup_15caadad17698b9f332a5a87242ec99e.setContent(html_6a6fb6ea2083d8bdeb539f2dd1d0679f);\n            \n        \n\n        circle_f68a0e26bb87097b6a16bcda450bc764.bindPopup(popup_15caadad17698b9f332a5a87242ec99e)\n        ;\n\n        \n    \n    \n            var marker_f0631182bd090be1262133025430b560 = L.marker(\n                [28.56319718, -80.57682003],\n                {}\n            ).addTo(map_4ea26a74aacbfd70b3d21b059a6b7b3a);\n        \n    \n            var div_icon_cf64e4b45e70c814692e1c98d72886c8 = L.divIcon({&quot;className&quot;: &quot;empty&quot;, &quot;html&quot;: &quot;\\u003cdiv style=\\&quot;font-size: 12; color:#d35400;\\&quot;\\u003e\\u003cb\\u003eVAFB SLC-4E\\u003c/b\\u003e\\u003c/div\\u003e&quot;, &quot;iconAnchor&quot;: [0, 0], &quot;iconSize&quot;: [20, 20]});\n            marker_f0631182bd090be1262133025430b560.setIcon(div_icon_cf64e4b45e70c814692e1c98d72886c8);\n        \n    \n            var circle_2f2849f21b80aeaba7c8b6aec1e7f40f = L.circle(\n                [28.57325457, -80.64689529],\n                {&quot;bubblingMouseEvents&quot;: true, &quot;color&quot;: &quot;#000000&quot;, &quot;dashArray&quot;: null, &quot;dashOffset&quot;: null, &quot;fill&quot;: true, &quot;fillColor&quot;: &quot;#000000&quot;, &quot;fillOpacity&quot;: 0.2, &quot;fillRule&quot;: &quot;evenodd&quot;, &quot;lineCap&quot;: &quot;round&quot;, &quot;lineJoin&quot;: &quot;round&quot;, &quot;opacity&quot;: 1.0, &quot;radius&quot;: 1000, &quot;stroke&quot;: true, &quot;weight&quot;: 3}\n            ).addTo(map_4ea26a74aacbfd70b3d21b059a6b7b3a);\n        \n    \n        var popup_4e694c4a4d092f63f81cdbcf9fd641d4 = L.popup({&quot;maxWidth&quot;: &quot;100%&quot;});\n\n        \n            \n                var html_6b49e74d16af8f3a8daf9d130bd67836 = $(`&lt;div id=&quot;html_6b49e74d16af8f3a8daf9d130bd67836&quot; style=&quot;width: 100.0%; height: 100.0%;&quot;&gt;VAFB SLC-4E&lt;/div&gt;`)[0];\n                popup_4e694c4a4d092f63f81cdbcf9fd641d4.setContent(html_6b49e74d16af8f3a8daf9d130bd67836);\n            \n        \n\n        circle_2f2849f21b80aeaba7c8b6aec1e7f40f.bindPopup(popup_4e694c4a4d092f63f81cdbcf9fd641d4)\n        ;\n\n        \n    \n    \n            var marker_b849045b4302778fed58d5a7a663c3cd = L.marker(\n                [28.57325457, -80.64689529],\n                {}\n            ).addTo(map_4ea26a74aacbfd70b3d21b059a6b7b3a);\n        \n    \n            var div_icon_7022ea34aeda61c1c292f154a7c95f65 = L.divIcon({&quot;className&quot;: &quot;empty&quot;, &quot;html&quot;: &quot;\\u003cdiv style=\\&quot;font-size: 12; color:#d35400;\\&quot;\\u003e\\u003cb\\u003eVAFB SLC-4E\\u003c/b\\u003e\\u003c/div\\u003e&quot;, &quot;iconAnchor&quot;: [0, 0], &quot;iconSize&quot;: [20, 20]});\n            marker_b849045b4302778fed58d5a7a663c3cd.setIcon(div_icon_7022ea34aeda61c1c292f154a7c95f65);\n        \n    \n            var circle_c063f68f15e35a310b719c9279c9314a = L.circle(\n                [34.63283416, -120.6107455],\n                {&quot;bubblingMouseEvents&quot;: true, &quot;color&quot;: &quot;#000000&quot;, &quot;dashArray&quot;: null, &quot;dashOffset&quot;: null, &quot;fill&quot;: true, &quot;fillColor&quot;: &quot;#000000&quot;, &quot;fillOpacity&quot;: 0.2, &quot;fillRule&quot;: &quot;evenodd&quot;, &quot;lineCap&quot;: &quot;round&quot;, &quot;lineJoin&quot;: &quot;round&quot;, &quot;opacity&quot;: 1.0, &quot;radius&quot;: 1000, &quot;stroke&quot;: true, &quot;weight&quot;: 3}\n            ).addTo(map_4ea26a74aacbfd70b3d21b059a6b7b3a);\n        \n    \n        var popup_37ad7aae3b7c0abe438d83a82616052b = L.popup({&quot;maxWidth&quot;: &quot;100%&quot;});\n\n        \n            \n                var html_8adea5f72a8b13590dc6e9400006eda8 = $(`&lt;div id=&quot;html_8adea5f72a8b13590dc6e9400006eda8&quot; style=&quot;width: 100.0%; height: 100.0%;&quot;&gt;VAFB SLC-4E&lt;/div&gt;`)[0];\n                popup_37ad7aae3b7c0abe438d83a82616052b.setContent(html_8adea5f72a8b13590dc6e9400006eda8);\n            \n        \n\n        circle_c063f68f15e35a310b719c9279c9314a.bindPopup(popup_37ad7aae3b7c0abe438d83a82616052b)\n        ;\n\n        \n    \n    \n            var marker_0872125b50dae0feb4146a265a341f8d = L.marker(\n                [34.63283416, -120.6107455],\n                {}\n            ).addTo(map_4ea26a74aacbfd70b3d21b059a6b7b3a);\n        \n    \n            var div_icon_44b4d66a4172cec7c5d0cc8679c3df26 = L.divIcon({&quot;className&quot;: &quot;empty&quot;, &quot;html&quot;: &quot;\\u003cdiv style=\\&quot;font-size: 12; color:#d35400;\\&quot;\\u003e\\u003cb\\u003eVAFB SLC-4E\\u003c/b\\u003e\\u003c/div\\u003e&quot;, &quot;iconAnchor&quot;: [0, 0], &quot;iconSize&quot;: [20, 20]});\n            marker_0872125b50dae0feb4146a265a341f8d.setIcon(div_icon_44b4d66a4172cec7c5d0cc8679c3df26);\n        \n&lt;/script&gt;\n&lt;/html&gt;\" style=\"position:absolute;width:100%;height:100%;left:0;top:0;border:none !important;\" allowfullscreen webkitallowfullscreen mozallowfullscreen></iframe></div></div>"
          },
          "metadata": {}
        }
      ],
      "execution_count": 53
    },
    {
      "cell_type": "markdown",
      "source": "The generated map with marked launch sites should look similar to the following:\n",
      "metadata": {}
    },
    {
      "cell_type": "markdown",
      "source": "<center>\n    <img src=\"https://cf-courses-data.s3.us.cloud-object-storage.appdomain.cloud/IBM-DS0321EN-SkillsNetwork/labs/module_3/images/launch_site_markers.png\">\n</center>\n",
      "metadata": {}
    },
    {
      "cell_type": "markdown",
      "source": "Now, you can explore the map by zoom-in/out the marked areas\n, and try to answer the following questions:\n\n*   Are all launch sites in proximity to the Equator line?\n*   Are all launch sites in very close proximity to the coast?\n\nAlso please try to explain your findings.\n",
      "metadata": {}
    },
    {
      "cell_type": "code",
      "source": "# Task 2: Mark the success/failed launches for each site on the map\n",
      "metadata": {
        "trusted": true
      },
      "outputs": [],
      "execution_count": 33
    },
    {
      "cell_type": "markdown",
      "source": "Next, let's try to enhance the map by adding the launch outcomes for each site, and see which sites have high success rates.\nRecall that data frame spacex_df has detailed launch records, and the `class` column indicates if this launch was successful or not\n",
      "metadata": {}
    },
    {
      "cell_type": "code",
      "source": "spacex_df.tail(10)",
      "metadata": {
        "trusted": true
      },
      "outputs": [
        {
          "execution_count": 34,
          "output_type": "execute_result",
          "data": {
            "text/plain": "     Launch Site        Lat       Long  class\n46    KSC LC-39A  28.573255 -80.646895      1\n47    KSC LC-39A  28.573255 -80.646895      1\n48    KSC LC-39A  28.573255 -80.646895      1\n49  CCAFS SLC-40  28.563197 -80.576820      1\n50  CCAFS SLC-40  28.563197 -80.576820      1\n51  CCAFS SLC-40  28.563197 -80.576820      0\n52  CCAFS SLC-40  28.563197 -80.576820      0\n53  CCAFS SLC-40  28.563197 -80.576820      0\n54  CCAFS SLC-40  28.563197 -80.576820      1\n55  CCAFS SLC-40  28.563197 -80.576820      0",
            "text/html": "<div>\n<style scoped>\n    .dataframe tbody tr th:only-of-type {\n        vertical-align: middle;\n    }\n\n    .dataframe tbody tr th {\n        vertical-align: top;\n    }\n\n    .dataframe thead th {\n        text-align: right;\n    }\n</style>\n<table border=\"1\" class=\"dataframe\">\n  <thead>\n    <tr style=\"text-align: right;\">\n      <th></th>\n      <th>Launch Site</th>\n      <th>Lat</th>\n      <th>Long</th>\n      <th>class</th>\n    </tr>\n  </thead>\n  <tbody>\n    <tr>\n      <th>46</th>\n      <td>KSC LC-39A</td>\n      <td>28.573255</td>\n      <td>-80.646895</td>\n      <td>1</td>\n    </tr>\n    <tr>\n      <th>47</th>\n      <td>KSC LC-39A</td>\n      <td>28.573255</td>\n      <td>-80.646895</td>\n      <td>1</td>\n    </tr>\n    <tr>\n      <th>48</th>\n      <td>KSC LC-39A</td>\n      <td>28.573255</td>\n      <td>-80.646895</td>\n      <td>1</td>\n    </tr>\n    <tr>\n      <th>49</th>\n      <td>CCAFS SLC-40</td>\n      <td>28.563197</td>\n      <td>-80.576820</td>\n      <td>1</td>\n    </tr>\n    <tr>\n      <th>50</th>\n      <td>CCAFS SLC-40</td>\n      <td>28.563197</td>\n      <td>-80.576820</td>\n      <td>1</td>\n    </tr>\n    <tr>\n      <th>51</th>\n      <td>CCAFS SLC-40</td>\n      <td>28.563197</td>\n      <td>-80.576820</td>\n      <td>0</td>\n    </tr>\n    <tr>\n      <th>52</th>\n      <td>CCAFS SLC-40</td>\n      <td>28.563197</td>\n      <td>-80.576820</td>\n      <td>0</td>\n    </tr>\n    <tr>\n      <th>53</th>\n      <td>CCAFS SLC-40</td>\n      <td>28.563197</td>\n      <td>-80.576820</td>\n      <td>0</td>\n    </tr>\n    <tr>\n      <th>54</th>\n      <td>CCAFS SLC-40</td>\n      <td>28.563197</td>\n      <td>-80.576820</td>\n      <td>1</td>\n    </tr>\n    <tr>\n      <th>55</th>\n      <td>CCAFS SLC-40</td>\n      <td>28.563197</td>\n      <td>-80.576820</td>\n      <td>0</td>\n    </tr>\n  </tbody>\n</table>\n</div>"
          },
          "metadata": {}
        }
      ],
      "execution_count": 34
    },
    {
      "cell_type": "markdown",
      "source": "Next, let's create markers for all launch records.\nIf a launch was successful `(class=1)`, then we use a green marker and if a launch was failed, we use a red marker `(class=0)`\n",
      "metadata": {}
    },
    {
      "cell_type": "markdown",
      "source": "Note that a launch only happens in one of the four launch sites, which means many launch records will have the exact same coordinate. Marker clusters can be a good way to simplify a map containing many markers having the same coordinate.\n",
      "metadata": {}
    },
    {
      "cell_type": "markdown",
      "source": "Let's first create a `MarkerCluster` object\n",
      "metadata": {}
    },
    {
      "cell_type": "code",
      "source": "marker_cluster = MarkerCluster()\n",
      "metadata": {
        "trusted": true
      },
      "outputs": [],
      "execution_count": 35
    },
    {
      "cell_type": "markdown",
      "source": "*TODO:* Create a new column in `launch_sites` dataframe called `marker_color` to store the marker colors based on the `class` value\n",
      "metadata": {}
    },
    {
      "cell_type": "code",
      "source": "\n# Apply a function to check the value of `class` column\n# If class=1, marker_color value will be green\n# If class=0, marker_color value will be red\n# Function to assign color to launch outcome\ndef assign_marker_color(launch_outcome):\n    # If class=1, marker_color value will be green\n    # If class=0, marker_color value will be red\n    if launch_outcome == 1:\n        return 'green'\n    else:\n        return 'red'\n    \nspacex_df['marker_color'] = spacex_df['class'].apply(assign_marker_color)\nspacex_df.tail(10)",
      "metadata": {
        "trusted": true
      },
      "outputs": [
        {
          "execution_count": 54,
          "output_type": "execute_result",
          "data": {
            "text/plain": "     Launch Site        Lat       Long  class marker_color\n46    KSC LC-39A  28.573255 -80.646895      1        green\n47    KSC LC-39A  28.573255 -80.646895      1        green\n48    KSC LC-39A  28.573255 -80.646895      1        green\n49  CCAFS SLC-40  28.563197 -80.576820      1        green\n50  CCAFS SLC-40  28.563197 -80.576820      1        green\n51  CCAFS SLC-40  28.563197 -80.576820      0          red\n52  CCAFS SLC-40  28.563197 -80.576820      0          red\n53  CCAFS SLC-40  28.563197 -80.576820      0          red\n54  CCAFS SLC-40  28.563197 -80.576820      1        green\n55  CCAFS SLC-40  28.563197 -80.576820      0          red",
            "text/html": "<div>\n<style scoped>\n    .dataframe tbody tr th:only-of-type {\n        vertical-align: middle;\n    }\n\n    .dataframe tbody tr th {\n        vertical-align: top;\n    }\n\n    .dataframe thead th {\n        text-align: right;\n    }\n</style>\n<table border=\"1\" class=\"dataframe\">\n  <thead>\n    <tr style=\"text-align: right;\">\n      <th></th>\n      <th>Launch Site</th>\n      <th>Lat</th>\n      <th>Long</th>\n      <th>class</th>\n      <th>marker_color</th>\n    </tr>\n  </thead>\n  <tbody>\n    <tr>\n      <th>46</th>\n      <td>KSC LC-39A</td>\n      <td>28.573255</td>\n      <td>-80.646895</td>\n      <td>1</td>\n      <td>green</td>\n    </tr>\n    <tr>\n      <th>47</th>\n      <td>KSC LC-39A</td>\n      <td>28.573255</td>\n      <td>-80.646895</td>\n      <td>1</td>\n      <td>green</td>\n    </tr>\n    <tr>\n      <th>48</th>\n      <td>KSC LC-39A</td>\n      <td>28.573255</td>\n      <td>-80.646895</td>\n      <td>1</td>\n      <td>green</td>\n    </tr>\n    <tr>\n      <th>49</th>\n      <td>CCAFS SLC-40</td>\n      <td>28.563197</td>\n      <td>-80.576820</td>\n      <td>1</td>\n      <td>green</td>\n    </tr>\n    <tr>\n      <th>50</th>\n      <td>CCAFS SLC-40</td>\n      <td>28.563197</td>\n      <td>-80.576820</td>\n      <td>1</td>\n      <td>green</td>\n    </tr>\n    <tr>\n      <th>51</th>\n      <td>CCAFS SLC-40</td>\n      <td>28.563197</td>\n      <td>-80.576820</td>\n      <td>0</td>\n      <td>red</td>\n    </tr>\n    <tr>\n      <th>52</th>\n      <td>CCAFS SLC-40</td>\n      <td>28.563197</td>\n      <td>-80.576820</td>\n      <td>0</td>\n      <td>red</td>\n    </tr>\n    <tr>\n      <th>53</th>\n      <td>CCAFS SLC-40</td>\n      <td>28.563197</td>\n      <td>-80.576820</td>\n      <td>0</td>\n      <td>red</td>\n    </tr>\n    <tr>\n      <th>54</th>\n      <td>CCAFS SLC-40</td>\n      <td>28.563197</td>\n      <td>-80.576820</td>\n      <td>1</td>\n      <td>green</td>\n    </tr>\n    <tr>\n      <th>55</th>\n      <td>CCAFS SLC-40</td>\n      <td>28.563197</td>\n      <td>-80.576820</td>\n      <td>0</td>\n      <td>red</td>\n    </tr>\n  </tbody>\n</table>\n</div>"
          },
          "metadata": {}
        }
      ],
      "execution_count": 54
    },
    {
      "cell_type": "markdown",
      "source": "*TODO:* For each launch result in `spacex_df` data frame, add a `folium.Marker` to `marker_cluster`\n",
      "metadata": {}
    },
    {
      "cell_type": "code",
      "source": "# Add marker_cluster to current site_map\nmarker_cluster = MarkerCluster()\nsite_map.add_child(marker_cluster) #note, this won't show up unless the individual launches are put onto the map (the next lines of code cover this)\n\n\nfor index, row in spacex_df.iterrows():\n    \n    #define the position and launch site for each launch\n    lat = row['Lat']\n    long = row['Long']\n    launch_site = row['Launch Site']\n    \n    #deine the launch marker for each launch\n    launch_marker = folium.Marker(\n        [lat, long],\n        # Create an icon as a text label and colour depending on launch success/failure (marker colour)\n        icon=folium.Icon(color='white', icon_color=row['marker_color'])\n    )\n    \n    # Add the launch marker for each launch to the launch clusters (not the map, the launch clusters themselves)\n    marker_cluster.add_child(launch_marker)\n\n#show the map zoomed out with the centre at NASA\nsite_map",
      "metadata": {
        "trusted": true
      },
      "outputs": [
        {
          "execution_count": 56,
          "output_type": "execute_result",
          "data": {
            "text/plain": "<folium.folium.Map at 0x6335070>",
            "text/html": "<div style=\"width:100%;\"><div style=\"position:relative;width:100%;height:0;padding-bottom:60%;\"><span style=\"color:#565656\">Make this Notebook Trusted to load map: File -> Trust Notebook</span><iframe srcdoc=\"&lt;!DOCTYPE html&gt;\n&lt;html&gt;\n&lt;head&gt;\n    \n    &lt;meta http-equiv=&quot;content-type&quot; content=&quot;text/html; charset=UTF-8&quot; /&gt;\n    \n        &lt;script&gt;\n            L_NO_TOUCH = false;\n            L_DISABLE_3D = false;\n        &lt;/script&gt;\n    \n    &lt;style&gt;html, body {width: 100%;height: 100%;margin: 0;padding: 0;}&lt;/style&gt;\n    &lt;style&gt;#map {position:absolute;top:0;bottom:0;right:0;left:0;}&lt;/style&gt;\n    &lt;script src=&quot;https://cdn.jsdelivr.net/npm/leaflet@1.9.3/dist/leaflet.js&quot;&gt;&lt;/script&gt;\n    &lt;script src=&quot;https://code.jquery.com/jquery-3.7.1.min.js&quot;&gt;&lt;/script&gt;\n    &lt;script src=&quot;https://cdn.jsdelivr.net/npm/bootstrap@5.2.2/dist/js/bootstrap.bundle.min.js&quot;&gt;&lt;/script&gt;\n    &lt;script src=&quot;https://cdnjs.cloudflare.com/ajax/libs/Leaflet.awesome-markers/2.0.2/leaflet.awesome-markers.js&quot;&gt;&lt;/script&gt;\n    &lt;link rel=&quot;stylesheet&quot; href=&quot;https://cdn.jsdelivr.net/npm/leaflet@1.9.3/dist/leaflet.css&quot;/&gt;\n    &lt;link rel=&quot;stylesheet&quot; href=&quot;https://cdn.jsdelivr.net/npm/bootstrap@5.2.2/dist/css/bootstrap.min.css&quot;/&gt;\n    &lt;link rel=&quot;stylesheet&quot; href=&quot;https://netdna.bootstrapcdn.com/bootstrap/3.0.0/css/bootstrap.min.css&quot;/&gt;\n    &lt;link rel=&quot;stylesheet&quot; href=&quot;https://cdn.jsdelivr.net/npm/@fortawesome/fontawesome-free@6.2.0/css/all.min.css&quot;/&gt;\n    &lt;link rel=&quot;stylesheet&quot; href=&quot;https://cdnjs.cloudflare.com/ajax/libs/Leaflet.awesome-markers/2.0.2/leaflet.awesome-markers.css&quot;/&gt;\n    &lt;link rel=&quot;stylesheet&quot; href=&quot;https://cdn.jsdelivr.net/gh/python-visualization/folium/folium/templates/leaflet.awesome.rotate.min.css&quot;/&gt;\n    \n            &lt;meta name=&quot;viewport&quot; content=&quot;width=device-width,\n                initial-scale=1.0, maximum-scale=1.0, user-scalable=no&quot; /&gt;\n            &lt;style&gt;\n                #map_4ea26a74aacbfd70b3d21b059a6b7b3a {\n                    position: relative;\n                    width: 100.0%;\n                    height: 100.0%;\n                    left: 0.0%;\n                    top: 0.0%;\n                }\n                .leaflet-container { font-size: 1rem; }\n            &lt;/style&gt;\n        \n    &lt;script src=&quot;https://cdnjs.cloudflare.com/ajax/libs/leaflet.markercluster/1.1.0/leaflet.markercluster.js&quot;&gt;&lt;/script&gt;\n    &lt;link rel=&quot;stylesheet&quot; href=&quot;https://cdnjs.cloudflare.com/ajax/libs/leaflet.markercluster/1.1.0/MarkerCluster.css&quot;/&gt;\n    &lt;link rel=&quot;stylesheet&quot; href=&quot;https://cdnjs.cloudflare.com/ajax/libs/leaflet.markercluster/1.1.0/MarkerCluster.Default.css&quot;/&gt;\n&lt;/head&gt;\n&lt;body&gt;\n    \n    \n            &lt;div class=&quot;folium-map&quot; id=&quot;map_4ea26a74aacbfd70b3d21b059a6b7b3a&quot; &gt;&lt;/div&gt;\n        \n&lt;/body&gt;\n&lt;script&gt;\n    \n    \n            var map_4ea26a74aacbfd70b3d21b059a6b7b3a = L.map(\n                &quot;map_4ea26a74aacbfd70b3d21b059a6b7b3a&quot;,\n                {\n                    center: [29.559684888503615, -95.0830971930759],\n                    crs: L.CRS.EPSG3857,\n                    zoom: 5,\n                    zoomControl: true,\n                    preferCanvas: false,\n                }\n            );\n\n            \n\n        \n    \n            var tile_layer_457ba0a32799a89974b91a4f231dd447 = L.tileLayer(\n                &quot;https://tile.openstreetmap.org/{z}/{x}/{y}.png&quot;,\n                {&quot;attribution&quot;: &quot;\\u0026copy; \\u003ca href=\\&quot;https://www.openstreetmap.org/copyright\\&quot;\\u003eOpenStreetMap\\u003c/a\\u003e contributors&quot;, &quot;detectRetina&quot;: false, &quot;maxNativeZoom&quot;: 19, &quot;maxZoom&quot;: 19, &quot;minZoom&quot;: 0, &quot;noWrap&quot;: false, &quot;opacity&quot;: 1, &quot;subdomains&quot;: &quot;abc&quot;, &quot;tms&quot;: false}\n            );\n        \n    \n            tile_layer_457ba0a32799a89974b91a4f231dd447.addTo(map_4ea26a74aacbfd70b3d21b059a6b7b3a);\n        \n    \n            var circle_0f978469cfcf9d9b2fb839610a311d20 = L.circle(\n                [28.56230197, -80.57735648],\n                {&quot;bubblingMouseEvents&quot;: true, &quot;color&quot;: &quot;#000000&quot;, &quot;dashArray&quot;: null, &quot;dashOffset&quot;: null, &quot;fill&quot;: true, &quot;fillColor&quot;: &quot;#000000&quot;, &quot;fillOpacity&quot;: 0.2, &quot;fillRule&quot;: &quot;evenodd&quot;, &quot;lineCap&quot;: &quot;round&quot;, &quot;lineJoin&quot;: &quot;round&quot;, &quot;opacity&quot;: 1.0, &quot;radius&quot;: 1000, &quot;stroke&quot;: true, &quot;weight&quot;: 3}\n            ).addTo(map_4ea26a74aacbfd70b3d21b059a6b7b3a);\n        \n    \n        var popup_2bb5063b227e4522808f6b8cc42e2fa7 = L.popup({&quot;maxWidth&quot;: &quot;100%&quot;});\n\n        \n            \n                var html_864c3dcaa839a50c7b15c06d3d29460e = $(`&lt;div id=&quot;html_864c3dcaa839a50c7b15c06d3d29460e&quot; style=&quot;width: 100.0%; height: 100.0%;&quot;&gt;VAFB SLC-4E&lt;/div&gt;`)[0];\n                popup_2bb5063b227e4522808f6b8cc42e2fa7.setContent(html_864c3dcaa839a50c7b15c06d3d29460e);\n            \n        \n\n        circle_0f978469cfcf9d9b2fb839610a311d20.bindPopup(popup_2bb5063b227e4522808f6b8cc42e2fa7)\n        ;\n\n        \n    \n    \n            var marker_0fb1f844926e279bc0dc915e643ab22b = L.marker(\n                [28.56230197, -80.57735648],\n                {}\n            ).addTo(map_4ea26a74aacbfd70b3d21b059a6b7b3a);\n        \n    \n            var div_icon_3b162467a29baf644c4280b39768d8a7 = L.divIcon({&quot;className&quot;: &quot;empty&quot;, &quot;html&quot;: &quot;\\u003cdiv style=\\&quot;font-size: 12; color:#d35400;\\&quot;\\u003e\\u003cb\\u003eVAFB SLC-4E\\u003c/b\\u003e\\u003c/div\\u003e&quot;, &quot;iconAnchor&quot;: [0, 0], &quot;iconSize&quot;: [20, 20]});\n            marker_0fb1f844926e279bc0dc915e643ab22b.setIcon(div_icon_3b162467a29baf644c4280b39768d8a7);\n        \n    \n            var circle_f68a0e26bb87097b6a16bcda450bc764 = L.circle(\n                [28.56319718, -80.57682003],\n                {&quot;bubblingMouseEvents&quot;: true, &quot;color&quot;: &quot;#000000&quot;, &quot;dashArray&quot;: null, &quot;dashOffset&quot;: null, &quot;fill&quot;: true, &quot;fillColor&quot;: &quot;#000000&quot;, &quot;fillOpacity&quot;: 0.2, &quot;fillRule&quot;: &quot;evenodd&quot;, &quot;lineCap&quot;: &quot;round&quot;, &quot;lineJoin&quot;: &quot;round&quot;, &quot;opacity&quot;: 1.0, &quot;radius&quot;: 1000, &quot;stroke&quot;: true, &quot;weight&quot;: 3}\n            ).addTo(map_4ea26a74aacbfd70b3d21b059a6b7b3a);\n        \n    \n        var popup_15caadad17698b9f332a5a87242ec99e = L.popup({&quot;maxWidth&quot;: &quot;100%&quot;});\n\n        \n            \n                var html_6a6fb6ea2083d8bdeb539f2dd1d0679f = $(`&lt;div id=&quot;html_6a6fb6ea2083d8bdeb539f2dd1d0679f&quot; style=&quot;width: 100.0%; height: 100.0%;&quot;&gt;VAFB SLC-4E&lt;/div&gt;`)[0];\n                popup_15caadad17698b9f332a5a87242ec99e.setContent(html_6a6fb6ea2083d8bdeb539f2dd1d0679f);\n            \n        \n\n        circle_f68a0e26bb87097b6a16bcda450bc764.bindPopup(popup_15caadad17698b9f332a5a87242ec99e)\n        ;\n\n        \n    \n    \n            var marker_f0631182bd090be1262133025430b560 = L.marker(\n                [28.56319718, -80.57682003],\n                {}\n            ).addTo(map_4ea26a74aacbfd70b3d21b059a6b7b3a);\n        \n    \n            var div_icon_cf64e4b45e70c814692e1c98d72886c8 = L.divIcon({&quot;className&quot;: &quot;empty&quot;, &quot;html&quot;: &quot;\\u003cdiv style=\\&quot;font-size: 12; color:#d35400;\\&quot;\\u003e\\u003cb\\u003eVAFB SLC-4E\\u003c/b\\u003e\\u003c/div\\u003e&quot;, &quot;iconAnchor&quot;: [0, 0], &quot;iconSize&quot;: [20, 20]});\n            marker_f0631182bd090be1262133025430b560.setIcon(div_icon_cf64e4b45e70c814692e1c98d72886c8);\n        \n    \n            var circle_2f2849f21b80aeaba7c8b6aec1e7f40f = L.circle(\n                [28.57325457, -80.64689529],\n                {&quot;bubblingMouseEvents&quot;: true, &quot;color&quot;: &quot;#000000&quot;, &quot;dashArray&quot;: null, &quot;dashOffset&quot;: null, &quot;fill&quot;: true, &quot;fillColor&quot;: &quot;#000000&quot;, &quot;fillOpacity&quot;: 0.2, &quot;fillRule&quot;: &quot;evenodd&quot;, &quot;lineCap&quot;: &quot;round&quot;, &quot;lineJoin&quot;: &quot;round&quot;, &quot;opacity&quot;: 1.0, &quot;radius&quot;: 1000, &quot;stroke&quot;: true, &quot;weight&quot;: 3}\n            ).addTo(map_4ea26a74aacbfd70b3d21b059a6b7b3a);\n        \n    \n        var popup_4e694c4a4d092f63f81cdbcf9fd641d4 = L.popup({&quot;maxWidth&quot;: &quot;100%&quot;});\n\n        \n            \n                var html_6b49e74d16af8f3a8daf9d130bd67836 = $(`&lt;div id=&quot;html_6b49e74d16af8f3a8daf9d130bd67836&quot; style=&quot;width: 100.0%; height: 100.0%;&quot;&gt;VAFB SLC-4E&lt;/div&gt;`)[0];\n                popup_4e694c4a4d092f63f81cdbcf9fd641d4.setContent(html_6b49e74d16af8f3a8daf9d130bd67836);\n            \n        \n\n        circle_2f2849f21b80aeaba7c8b6aec1e7f40f.bindPopup(popup_4e694c4a4d092f63f81cdbcf9fd641d4)\n        ;\n\n        \n    \n    \n            var marker_b849045b4302778fed58d5a7a663c3cd = L.marker(\n                [28.57325457, -80.64689529],\n                {}\n            ).addTo(map_4ea26a74aacbfd70b3d21b059a6b7b3a);\n        \n    \n            var div_icon_7022ea34aeda61c1c292f154a7c95f65 = L.divIcon({&quot;className&quot;: &quot;empty&quot;, &quot;html&quot;: &quot;\\u003cdiv style=\\&quot;font-size: 12; color:#d35400;\\&quot;\\u003e\\u003cb\\u003eVAFB SLC-4E\\u003c/b\\u003e\\u003c/div\\u003e&quot;, &quot;iconAnchor&quot;: [0, 0], &quot;iconSize&quot;: [20, 20]});\n            marker_b849045b4302778fed58d5a7a663c3cd.setIcon(div_icon_7022ea34aeda61c1c292f154a7c95f65);\n        \n    \n            var circle_c063f68f15e35a310b719c9279c9314a = L.circle(\n                [34.63283416, -120.6107455],\n                {&quot;bubblingMouseEvents&quot;: true, &quot;color&quot;: &quot;#000000&quot;, &quot;dashArray&quot;: null, &quot;dashOffset&quot;: null, &quot;fill&quot;: true, &quot;fillColor&quot;: &quot;#000000&quot;, &quot;fillOpacity&quot;: 0.2, &quot;fillRule&quot;: &quot;evenodd&quot;, &quot;lineCap&quot;: &quot;round&quot;, &quot;lineJoin&quot;: &quot;round&quot;, &quot;opacity&quot;: 1.0, &quot;radius&quot;: 1000, &quot;stroke&quot;: true, &quot;weight&quot;: 3}\n            ).addTo(map_4ea26a74aacbfd70b3d21b059a6b7b3a);\n        \n    \n        var popup_37ad7aae3b7c0abe438d83a82616052b = L.popup({&quot;maxWidth&quot;: &quot;100%&quot;});\n\n        \n            \n                var html_8adea5f72a8b13590dc6e9400006eda8 = $(`&lt;div id=&quot;html_8adea5f72a8b13590dc6e9400006eda8&quot; style=&quot;width: 100.0%; height: 100.0%;&quot;&gt;VAFB SLC-4E&lt;/div&gt;`)[0];\n                popup_37ad7aae3b7c0abe438d83a82616052b.setContent(html_8adea5f72a8b13590dc6e9400006eda8);\n            \n        \n\n        circle_c063f68f15e35a310b719c9279c9314a.bindPopup(popup_37ad7aae3b7c0abe438d83a82616052b)\n        ;\n\n        \n    \n    \n            var marker_0872125b50dae0feb4146a265a341f8d = L.marker(\n                [34.63283416, -120.6107455],\n                {}\n            ).addTo(marker_cluster_e0735584b7fd8c343a9e16844315daf8);\n        \n    \n            var div_icon_44b4d66a4172cec7c5d0cc8679c3df26 = L.divIcon({&quot;className&quot;: &quot;empty&quot;, &quot;html&quot;: &quot;\\u003cdiv style=\\&quot;font-size: 12; color:#d35400;\\&quot;\\u003e\\u003cb\\u003eVAFB SLC-4E\\u003c/b\\u003e\\u003c/div\\u003e&quot;, &quot;iconAnchor&quot;: [0, 0], &quot;iconSize&quot;: [20, 20]});\n            marker_0872125b50dae0feb4146a265a341f8d.setIcon(div_icon_44b4d66a4172cec7c5d0cc8679c3df26);\n        \n    \n            tile_layer_457ba0a32799a89974b91a4f231dd447.addTo(map_4ea26a74aacbfd70b3d21b059a6b7b3a);\n        \n    \n            var marker_cluster_e0735584b7fd8c343a9e16844315daf8 = L.markerClusterGroup(\n                {}\n            );\n        \n    \n            var marker_f131d95bf2999d676e71c4caed8edc40 = L.marker(\n                [29.559684888503615, -95.0830971930759],\n                {}\n            ).addTo(marker_cluster_e0735584b7fd8c343a9e16844315daf8);\n        \n    \n            var div_icon_6187980c93d445925b0f8fb72a5279aa = L.divIcon({&quot;className&quot;: &quot;empty&quot;, &quot;html&quot;: &quot;\\u003cdiv style=\\&quot;font-size: 12; color:#d35400;\\&quot;\\u003e\\u003cb\\u003eNASA JSC\\u003c/b\\u003e\\u003c/div\\u003e&quot;, &quot;iconAnchor&quot;: [0, 0], &quot;iconSize&quot;: [20, 20]});\n            marker_f131d95bf2999d676e71c4caed8edc40.setIcon(div_icon_6187980c93d445925b0f8fb72a5279aa);\n        \n    \n            marker_cluster_e0735584b7fd8c343a9e16844315daf8.addTo(map_4ea26a74aacbfd70b3d21b059a6b7b3a);\n        \n    \n            tile_layer_457ba0a32799a89974b91a4f231dd447.addTo(map_4ea26a74aacbfd70b3d21b059a6b7b3a);\n        \n    \n            marker_cluster_e0735584b7fd8c343a9e16844315daf8.addTo(map_4ea26a74aacbfd70b3d21b059a6b7b3a);\n        \n    \n            var marker_cluster_7b50d48fe538f2dc48bd465b62e0b276 = L.markerClusterGroup(\n                {}\n            );\n        \n    \n            var marker_d940ec8c15e94c265237860714574e1e = L.marker(\n                [28.56230197, -80.57735648],\n                {}\n            ).addTo(marker_cluster_7b50d48fe538f2dc48bd465b62e0b276);\n        \n    \n            var icon_6d8a61b80a759c49936f3a7f6329db95 = L.AwesomeMarkers.icon(\n                {&quot;extraClasses&quot;: &quot;fa-rotate-0&quot;, &quot;icon&quot;: &quot;info-sign&quot;, &quot;iconColor&quot;: &quot;red&quot;, &quot;markerColor&quot;: &quot;white&quot;, &quot;prefix&quot;: &quot;glyphicon&quot;}\n            );\n            marker_d940ec8c15e94c265237860714574e1e.setIcon(icon_6d8a61b80a759c49936f3a7f6329db95);\n        \n    \n            var marker_04169e3a16d1a42ffb56e627c42ba119 = L.marker(\n                [28.56230197, -80.57735648],\n                {}\n            ).addTo(marker_cluster_7b50d48fe538f2dc48bd465b62e0b276);\n        \n    \n            var icon_4eeff99b16b82171192d5833abd35020 = L.AwesomeMarkers.icon(\n                {&quot;extraClasses&quot;: &quot;fa-rotate-0&quot;, &quot;icon&quot;: &quot;info-sign&quot;, &quot;iconColor&quot;: &quot;red&quot;, &quot;markerColor&quot;: &quot;white&quot;, &quot;prefix&quot;: &quot;glyphicon&quot;}\n            );\n            marker_04169e3a16d1a42ffb56e627c42ba119.setIcon(icon_4eeff99b16b82171192d5833abd35020);\n        \n    \n            var marker_d01ca24871cf60e8688fbece621b9060 = L.marker(\n                [28.56230197, -80.57735648],\n                {}\n            ).addTo(marker_cluster_7b50d48fe538f2dc48bd465b62e0b276);\n        \n    \n            var icon_7df4bd678266940457614e017139a571 = L.AwesomeMarkers.icon(\n                {&quot;extraClasses&quot;: &quot;fa-rotate-0&quot;, &quot;icon&quot;: &quot;info-sign&quot;, &quot;iconColor&quot;: &quot;red&quot;, &quot;markerColor&quot;: &quot;white&quot;, &quot;prefix&quot;: &quot;glyphicon&quot;}\n            );\n            marker_d01ca24871cf60e8688fbece621b9060.setIcon(icon_7df4bd678266940457614e017139a571);\n        \n    \n            var marker_bca0cce3bf32e9b99c49c27a6fdc4267 = L.marker(\n                [28.56230197, -80.57735648],\n                {}\n            ).addTo(marker_cluster_7b50d48fe538f2dc48bd465b62e0b276);\n        \n    \n            var icon_f4c4593ca672e597065ca4fb11d7d347 = L.AwesomeMarkers.icon(\n                {&quot;extraClasses&quot;: &quot;fa-rotate-0&quot;, &quot;icon&quot;: &quot;info-sign&quot;, &quot;iconColor&quot;: &quot;red&quot;, &quot;markerColor&quot;: &quot;white&quot;, &quot;prefix&quot;: &quot;glyphicon&quot;}\n            );\n            marker_bca0cce3bf32e9b99c49c27a6fdc4267.setIcon(icon_f4c4593ca672e597065ca4fb11d7d347);\n        \n    \n            var marker_098dab7c1c4898ff668cba3ff81e5a7c = L.marker(\n                [28.56230197, -80.57735648],\n                {}\n            ).addTo(marker_cluster_7b50d48fe538f2dc48bd465b62e0b276);\n        \n    \n            var icon_fe4dee20c31c0c119af6750c138d14d8 = L.AwesomeMarkers.icon(\n                {&quot;extraClasses&quot;: &quot;fa-rotate-0&quot;, &quot;icon&quot;: &quot;info-sign&quot;, &quot;iconColor&quot;: &quot;red&quot;, &quot;markerColor&quot;: &quot;white&quot;, &quot;prefix&quot;: &quot;glyphicon&quot;}\n            );\n            marker_098dab7c1c4898ff668cba3ff81e5a7c.setIcon(icon_fe4dee20c31c0c119af6750c138d14d8);\n        \n    \n            var marker_da5bad002ada4aeb63afe42c4a0de285 = L.marker(\n                [28.56230197, -80.57735648],\n                {}\n            ).addTo(marker_cluster_7b50d48fe538f2dc48bd465b62e0b276);\n        \n    \n            var icon_a05f331a97165823b5827346cebfad10 = L.AwesomeMarkers.icon(\n                {&quot;extraClasses&quot;: &quot;fa-rotate-0&quot;, &quot;icon&quot;: &quot;info-sign&quot;, &quot;iconColor&quot;: &quot;red&quot;, &quot;markerColor&quot;: &quot;white&quot;, &quot;prefix&quot;: &quot;glyphicon&quot;}\n            );\n            marker_da5bad002ada4aeb63afe42c4a0de285.setIcon(icon_a05f331a97165823b5827346cebfad10);\n        \n    \n            var marker_11ffaa849b9d73521b24beeae55bb946 = L.marker(\n                [28.56230197, -80.57735648],\n                {}\n            ).addTo(marker_cluster_7b50d48fe538f2dc48bd465b62e0b276);\n        \n    \n            var icon_ac3368779a6618c78c156cd22ee7d47b = L.AwesomeMarkers.icon(\n                {&quot;extraClasses&quot;: &quot;fa-rotate-0&quot;, &quot;icon&quot;: &quot;info-sign&quot;, &quot;iconColor&quot;: &quot;red&quot;, &quot;markerColor&quot;: &quot;white&quot;, &quot;prefix&quot;: &quot;glyphicon&quot;}\n            );\n            marker_11ffaa849b9d73521b24beeae55bb946.setIcon(icon_ac3368779a6618c78c156cd22ee7d47b);\n        \n    \n            var marker_0eced5f3c83500e6e0a710660948018a = L.marker(\n                [28.56230197, -80.57735648],\n                {}\n            ).addTo(marker_cluster_7b50d48fe538f2dc48bd465b62e0b276);\n        \n    \n            var icon_684bbe75a768d6a14608d21eb1713abe = L.AwesomeMarkers.icon(\n                {&quot;extraClasses&quot;: &quot;fa-rotate-0&quot;, &quot;icon&quot;: &quot;info-sign&quot;, &quot;iconColor&quot;: &quot;red&quot;, &quot;markerColor&quot;: &quot;white&quot;, &quot;prefix&quot;: &quot;glyphicon&quot;}\n            );\n            marker_0eced5f3c83500e6e0a710660948018a.setIcon(icon_684bbe75a768d6a14608d21eb1713abe);\n        \n    \n            var marker_cd9db1456f1b09913e5568f86cedc6dd = L.marker(\n                [28.56230197, -80.57735648],\n                {}\n            ).addTo(marker_cluster_7b50d48fe538f2dc48bd465b62e0b276);\n        \n    \n            var icon_885301ebbb02ff3418fa50248857ad5a = L.AwesomeMarkers.icon(\n                {&quot;extraClasses&quot;: &quot;fa-rotate-0&quot;, &quot;icon&quot;: &quot;info-sign&quot;, &quot;iconColor&quot;: &quot;red&quot;, &quot;markerColor&quot;: &quot;white&quot;, &quot;prefix&quot;: &quot;glyphicon&quot;}\n            );\n            marker_cd9db1456f1b09913e5568f86cedc6dd.setIcon(icon_885301ebbb02ff3418fa50248857ad5a);\n        \n    \n            var marker_f366c202a97332d3fbc4c50f688e3fe5 = L.marker(\n                [28.56230197, -80.57735648],\n                {}\n            ).addTo(marker_cluster_7b50d48fe538f2dc48bd465b62e0b276);\n        \n    \n            var icon_0afb42270c6c55f7e62fc7f2320a4321 = L.AwesomeMarkers.icon(\n                {&quot;extraClasses&quot;: &quot;fa-rotate-0&quot;, &quot;icon&quot;: &quot;info-sign&quot;, &quot;iconColor&quot;: &quot;red&quot;, &quot;markerColor&quot;: &quot;white&quot;, &quot;prefix&quot;: &quot;glyphicon&quot;}\n            );\n            marker_f366c202a97332d3fbc4c50f688e3fe5.setIcon(icon_0afb42270c6c55f7e62fc7f2320a4321);\n        \n    \n            var marker_84ca7980aba5cfc05f70dcfce358a839 = L.marker(\n                [28.56230197, -80.57735648],\n                {}\n            ).addTo(marker_cluster_7b50d48fe538f2dc48bd465b62e0b276);\n        \n    \n            var icon_49678107d2386d8cdacf1cc09bb17979 = L.AwesomeMarkers.icon(\n                {&quot;extraClasses&quot;: &quot;fa-rotate-0&quot;, &quot;icon&quot;: &quot;info-sign&quot;, &quot;iconColor&quot;: &quot;red&quot;, &quot;markerColor&quot;: &quot;white&quot;, &quot;prefix&quot;: &quot;glyphicon&quot;}\n            );\n            marker_84ca7980aba5cfc05f70dcfce358a839.setIcon(icon_49678107d2386d8cdacf1cc09bb17979);\n        \n    \n            var marker_c8c9ea9eb5ab457411d7869635ac808d = L.marker(\n                [28.56230197, -80.57735648],\n                {}\n            ).addTo(marker_cluster_7b50d48fe538f2dc48bd465b62e0b276);\n        \n    \n            var icon_3b2ce13aa5988e1a58898674aa9eda0a = L.AwesomeMarkers.icon(\n                {&quot;extraClasses&quot;: &quot;fa-rotate-0&quot;, &quot;icon&quot;: &quot;info-sign&quot;, &quot;iconColor&quot;: &quot;red&quot;, &quot;markerColor&quot;: &quot;white&quot;, &quot;prefix&quot;: &quot;glyphicon&quot;}\n            );\n            marker_c8c9ea9eb5ab457411d7869635ac808d.setIcon(icon_3b2ce13aa5988e1a58898674aa9eda0a);\n        \n    \n            var marker_eb45d6b940337206f141a0263d8034eb = L.marker(\n                [28.56230197, -80.57735648],\n                {}\n            ).addTo(marker_cluster_7b50d48fe538f2dc48bd465b62e0b276);\n        \n    \n            var icon_52d33d52deeccba87b65e270d1e35ceb = L.AwesomeMarkers.icon(\n                {&quot;extraClasses&quot;: &quot;fa-rotate-0&quot;, &quot;icon&quot;: &quot;info-sign&quot;, &quot;iconColor&quot;: &quot;red&quot;, &quot;markerColor&quot;: &quot;white&quot;, &quot;prefix&quot;: &quot;glyphicon&quot;}\n            );\n            marker_eb45d6b940337206f141a0263d8034eb.setIcon(icon_52d33d52deeccba87b65e270d1e35ceb);\n        \n    \n            var marker_58edc2b3dfcaf0424a8720aa28a69756 = L.marker(\n                [28.56230197, -80.57735648],\n                {}\n            ).addTo(marker_cluster_7b50d48fe538f2dc48bd465b62e0b276);\n        \n    \n            var icon_c22373a1bb9ee4a9ed01cac9b4982490 = L.AwesomeMarkers.icon(\n                {&quot;extraClasses&quot;: &quot;fa-rotate-0&quot;, &quot;icon&quot;: &quot;info-sign&quot;, &quot;iconColor&quot;: &quot;red&quot;, &quot;markerColor&quot;: &quot;white&quot;, &quot;prefix&quot;: &quot;glyphicon&quot;}\n            );\n            marker_58edc2b3dfcaf0424a8720aa28a69756.setIcon(icon_c22373a1bb9ee4a9ed01cac9b4982490);\n        \n    \n            var marker_f478df943a2ff6cb769dc0f4d3b2d3de = L.marker(\n                [28.56230197, -80.57735648],\n                {}\n            ).addTo(marker_cluster_7b50d48fe538f2dc48bd465b62e0b276);\n        \n    \n            var icon_462842c6a1b02fd4e0df5ad1de8ff99a = L.AwesomeMarkers.icon(\n                {&quot;extraClasses&quot;: &quot;fa-rotate-0&quot;, &quot;icon&quot;: &quot;info-sign&quot;, &quot;iconColor&quot;: &quot;red&quot;, &quot;markerColor&quot;: &quot;white&quot;, &quot;prefix&quot;: &quot;glyphicon&quot;}\n            );\n            marker_f478df943a2ff6cb769dc0f4d3b2d3de.setIcon(icon_462842c6a1b02fd4e0df5ad1de8ff99a);\n        \n    \n            var marker_d898881751012c67bd338edad700cfeb = L.marker(\n                [28.56230197, -80.57735648],\n                {}\n            ).addTo(marker_cluster_7b50d48fe538f2dc48bd465b62e0b276);\n        \n    \n            var icon_79718114813540a9ae6fb5d8db2e1be1 = L.AwesomeMarkers.icon(\n                {&quot;extraClasses&quot;: &quot;fa-rotate-0&quot;, &quot;icon&quot;: &quot;info-sign&quot;, &quot;iconColor&quot;: &quot;red&quot;, &quot;markerColor&quot;: &quot;white&quot;, &quot;prefix&quot;: &quot;glyphicon&quot;}\n            );\n            marker_d898881751012c67bd338edad700cfeb.setIcon(icon_79718114813540a9ae6fb5d8db2e1be1);\n        \n    \n            var marker_ab6d63a6143ce93cde80a3d08a89442b = L.marker(\n                [28.56230197, -80.57735648],\n                {}\n            ).addTo(marker_cluster_7b50d48fe538f2dc48bd465b62e0b276);\n        \n    \n            var icon_8c186cd9d84e0f069891a7b7ad415cd7 = L.AwesomeMarkers.icon(\n                {&quot;extraClasses&quot;: &quot;fa-rotate-0&quot;, &quot;icon&quot;: &quot;info-sign&quot;, &quot;iconColor&quot;: &quot;red&quot;, &quot;markerColor&quot;: &quot;white&quot;, &quot;prefix&quot;: &quot;glyphicon&quot;}\n            );\n            marker_ab6d63a6143ce93cde80a3d08a89442b.setIcon(icon_8c186cd9d84e0f069891a7b7ad415cd7);\n        \n    \n            var marker_027248588733fa03e42f85f906958b1e = L.marker(\n                [28.56230197, -80.57735648],\n                {}\n            ).addTo(marker_cluster_7b50d48fe538f2dc48bd465b62e0b276);\n        \n    \n            var icon_31547fc1044cb80b22a3031475b65925 = L.AwesomeMarkers.icon(\n                {&quot;extraClasses&quot;: &quot;fa-rotate-0&quot;, &quot;icon&quot;: &quot;info-sign&quot;, &quot;iconColor&quot;: &quot;green&quot;, &quot;markerColor&quot;: &quot;white&quot;, &quot;prefix&quot;: &quot;glyphicon&quot;}\n            );\n            marker_027248588733fa03e42f85f906958b1e.setIcon(icon_31547fc1044cb80b22a3031475b65925);\n        \n    \n            var marker_60dddd93e4de51c7841124c2b562157e = L.marker(\n                [28.56230197, -80.57735648],\n                {}\n            ).addTo(marker_cluster_7b50d48fe538f2dc48bd465b62e0b276);\n        \n    \n            var icon_b77913bdeea6b6e6d4805d85081ee399 = L.AwesomeMarkers.icon(\n                {&quot;extraClasses&quot;: &quot;fa-rotate-0&quot;, &quot;icon&quot;: &quot;info-sign&quot;, &quot;iconColor&quot;: &quot;green&quot;, &quot;markerColor&quot;: &quot;white&quot;, &quot;prefix&quot;: &quot;glyphicon&quot;}\n            );\n            marker_60dddd93e4de51c7841124c2b562157e.setIcon(icon_b77913bdeea6b6e6d4805d85081ee399);\n        \n    \n            var marker_04c3b69788a6044ac3ffd7631a340c66 = L.marker(\n                [28.56230197, -80.57735648],\n                {}\n            ).addTo(marker_cluster_7b50d48fe538f2dc48bd465b62e0b276);\n        \n    \n            var icon_cf953b5c8b715a2249ff58c1ffb4ce5f = L.AwesomeMarkers.icon(\n                {&quot;extraClasses&quot;: &quot;fa-rotate-0&quot;, &quot;icon&quot;: &quot;info-sign&quot;, &quot;iconColor&quot;: &quot;red&quot;, &quot;markerColor&quot;: &quot;white&quot;, &quot;prefix&quot;: &quot;glyphicon&quot;}\n            );\n            marker_04c3b69788a6044ac3ffd7631a340c66.setIcon(icon_cf953b5c8b715a2249ff58c1ffb4ce5f);\n        \n    \n            var marker_05f52023976d84c24a1a49965cc5f11c = L.marker(\n                [28.56230197, -80.57735648],\n                {}\n            ).addTo(marker_cluster_7b50d48fe538f2dc48bd465b62e0b276);\n        \n    \n            var icon_354489b1ade1901bc5a47d06acd948a7 = L.AwesomeMarkers.icon(\n                {&quot;extraClasses&quot;: &quot;fa-rotate-0&quot;, &quot;icon&quot;: &quot;info-sign&quot;, &quot;iconColor&quot;: &quot;green&quot;, &quot;markerColor&quot;: &quot;white&quot;, &quot;prefix&quot;: &quot;glyphicon&quot;}\n            );\n            marker_05f52023976d84c24a1a49965cc5f11c.setIcon(icon_354489b1ade1901bc5a47d06acd948a7);\n        \n    \n            var marker_50e5ea3648570cea8a233ae08b3c1dc2 = L.marker(\n                [28.56230197, -80.57735648],\n                {}\n            ).addTo(marker_cluster_7b50d48fe538f2dc48bd465b62e0b276);\n        \n    \n            var icon_c824fd066209a36e4aec52d8d4311ff8 = L.AwesomeMarkers.icon(\n                {&quot;extraClasses&quot;: &quot;fa-rotate-0&quot;, &quot;icon&quot;: &quot;info-sign&quot;, &quot;iconColor&quot;: &quot;green&quot;, &quot;markerColor&quot;: &quot;white&quot;, &quot;prefix&quot;: &quot;glyphicon&quot;}\n            );\n            marker_50e5ea3648570cea8a233ae08b3c1dc2.setIcon(icon_c824fd066209a36e4aec52d8d4311ff8);\n        \n    \n            var marker_19c189709bbe7d62e9f2db48ded3c430 = L.marker(\n                [28.56230197, -80.57735648],\n                {}\n            ).addTo(marker_cluster_7b50d48fe538f2dc48bd465b62e0b276);\n        \n    \n            var icon_55203706dfc2ea7e6e876adf1a2a39af = L.AwesomeMarkers.icon(\n                {&quot;extraClasses&quot;: &quot;fa-rotate-0&quot;, &quot;icon&quot;: &quot;info-sign&quot;, &quot;iconColor&quot;: &quot;green&quot;, &quot;markerColor&quot;: &quot;white&quot;, &quot;prefix&quot;: &quot;glyphicon&quot;}\n            );\n            marker_19c189709bbe7d62e9f2db48ded3c430.setIcon(icon_55203706dfc2ea7e6e876adf1a2a39af);\n        \n    \n            var marker_55e8df763a399e69352cfa3e4e9fed89 = L.marker(\n                [28.56230197, -80.57735648],\n                {}\n            ).addTo(marker_cluster_7b50d48fe538f2dc48bd465b62e0b276);\n        \n    \n            var icon_fee166074c76c909a022b6acb6572985 = L.AwesomeMarkers.icon(\n                {&quot;extraClasses&quot;: &quot;fa-rotate-0&quot;, &quot;icon&quot;: &quot;info-sign&quot;, &quot;iconColor&quot;: &quot;red&quot;, &quot;markerColor&quot;: &quot;white&quot;, &quot;prefix&quot;: &quot;glyphicon&quot;}\n            );\n            marker_55e8df763a399e69352cfa3e4e9fed89.setIcon(icon_fee166074c76c909a022b6acb6572985);\n        \n    \n            var marker_37758f54d1bbcc2647545884c60c116d = L.marker(\n                [28.56230197, -80.57735648],\n                {}\n            ).addTo(marker_cluster_7b50d48fe538f2dc48bd465b62e0b276);\n        \n    \n            var icon_69da5aed3c8d7eb76bf3c024ee5f02e5 = L.AwesomeMarkers.icon(\n                {&quot;extraClasses&quot;: &quot;fa-rotate-0&quot;, &quot;icon&quot;: &quot;info-sign&quot;, &quot;iconColor&quot;: &quot;green&quot;, &quot;markerColor&quot;: &quot;white&quot;, &quot;prefix&quot;: &quot;glyphicon&quot;}\n            );\n            marker_37758f54d1bbcc2647545884c60c116d.setIcon(icon_69da5aed3c8d7eb76bf3c024ee5f02e5);\n        \n    \n            var marker_c9c0a589f84c381244ef13794a1724d0 = L.marker(\n                [28.56230197, -80.57735648],\n                {}\n            ).addTo(marker_cluster_7b50d48fe538f2dc48bd465b62e0b276);\n        \n    \n            var icon_0cdd3dd19ba41c004e74c89053614df7 = L.AwesomeMarkers.icon(\n                {&quot;extraClasses&quot;: &quot;fa-rotate-0&quot;, &quot;icon&quot;: &quot;info-sign&quot;, &quot;iconColor&quot;: &quot;green&quot;, &quot;markerColor&quot;: &quot;white&quot;, &quot;prefix&quot;: &quot;glyphicon&quot;}\n            );\n            marker_c9c0a589f84c381244ef13794a1724d0.setIcon(icon_0cdd3dd19ba41c004e74c89053614df7);\n        \n    \n            var marker_359df297ee65fad01f08409ff72c85d5 = L.marker(\n                [34.63283416, -120.6107455],\n                {}\n            ).addTo(marker_cluster_7b50d48fe538f2dc48bd465b62e0b276);\n        \n    \n            var icon_f87ab38254b595e107aceae008435d4b = L.AwesomeMarkers.icon(\n                {&quot;extraClasses&quot;: &quot;fa-rotate-0&quot;, &quot;icon&quot;: &quot;info-sign&quot;, &quot;iconColor&quot;: &quot;red&quot;, &quot;markerColor&quot;: &quot;white&quot;, &quot;prefix&quot;: &quot;glyphicon&quot;}\n            );\n            marker_359df297ee65fad01f08409ff72c85d5.setIcon(icon_f87ab38254b595e107aceae008435d4b);\n        \n    \n            var marker_1fe4b1dbe9ba11f5950bb57714258896 = L.marker(\n                [34.63283416, -120.6107455],\n                {}\n            ).addTo(marker_cluster_7b50d48fe538f2dc48bd465b62e0b276);\n        \n    \n            var icon_d25481aa8601b809488b39d2ab2a7374 = L.AwesomeMarkers.icon(\n                {&quot;extraClasses&quot;: &quot;fa-rotate-0&quot;, &quot;icon&quot;: &quot;info-sign&quot;, &quot;iconColor&quot;: &quot;red&quot;, &quot;markerColor&quot;: &quot;white&quot;, &quot;prefix&quot;: &quot;glyphicon&quot;}\n            );\n            marker_1fe4b1dbe9ba11f5950bb57714258896.setIcon(icon_d25481aa8601b809488b39d2ab2a7374);\n        \n    \n            var marker_8626a2c862fb7af3db5ef461792f8ac7 = L.marker(\n                [34.63283416, -120.6107455],\n                {}\n            ).addTo(marker_cluster_7b50d48fe538f2dc48bd465b62e0b276);\n        \n    \n            var icon_ae4dab8876dcff4e91606ed045b7a5b3 = L.AwesomeMarkers.icon(\n                {&quot;extraClasses&quot;: &quot;fa-rotate-0&quot;, &quot;icon&quot;: &quot;info-sign&quot;, &quot;iconColor&quot;: &quot;green&quot;, &quot;markerColor&quot;: &quot;white&quot;, &quot;prefix&quot;: &quot;glyphicon&quot;}\n            );\n            marker_8626a2c862fb7af3db5ef461792f8ac7.setIcon(icon_ae4dab8876dcff4e91606ed045b7a5b3);\n        \n    \n            var marker_2acbdcba1acde770960b7f814ab5b332 = L.marker(\n                [34.63283416, -120.6107455],\n                {}\n            ).addTo(marker_cluster_7b50d48fe538f2dc48bd465b62e0b276);\n        \n    \n            var icon_9127db43cb59d33ae51cd53c2e032b1e = L.AwesomeMarkers.icon(\n                {&quot;extraClasses&quot;: &quot;fa-rotate-0&quot;, &quot;icon&quot;: &quot;info-sign&quot;, &quot;iconColor&quot;: &quot;green&quot;, &quot;markerColor&quot;: &quot;white&quot;, &quot;prefix&quot;: &quot;glyphicon&quot;}\n            );\n            marker_2acbdcba1acde770960b7f814ab5b332.setIcon(icon_9127db43cb59d33ae51cd53c2e032b1e);\n        \n    \n            var marker_2c20f0bf9fbeb5a547bf4b95759e3a6f = L.marker(\n                [34.63283416, -120.6107455],\n                {}\n            ).addTo(marker_cluster_7b50d48fe538f2dc48bd465b62e0b276);\n        \n    \n            var icon_389fb8ca70e260e5b30e135d85e48d30 = L.AwesomeMarkers.icon(\n                {&quot;extraClasses&quot;: &quot;fa-rotate-0&quot;, &quot;icon&quot;: &quot;info-sign&quot;, &quot;iconColor&quot;: &quot;green&quot;, &quot;markerColor&quot;: &quot;white&quot;, &quot;prefix&quot;: &quot;glyphicon&quot;}\n            );\n            marker_2c20f0bf9fbeb5a547bf4b95759e3a6f.setIcon(icon_389fb8ca70e260e5b30e135d85e48d30);\n        \n    \n            var marker_2c68bbc4537b4c2e871e5ba27101d19b = L.marker(\n                [34.63283416, -120.6107455],\n                {}\n            ).addTo(marker_cluster_7b50d48fe538f2dc48bd465b62e0b276);\n        \n    \n            var icon_413f1678f3bbc8b649d3d5590a491931 = L.AwesomeMarkers.icon(\n                {&quot;extraClasses&quot;: &quot;fa-rotate-0&quot;, &quot;icon&quot;: &quot;info-sign&quot;, &quot;iconColor&quot;: &quot;green&quot;, &quot;markerColor&quot;: &quot;white&quot;, &quot;prefix&quot;: &quot;glyphicon&quot;}\n            );\n            marker_2c68bbc4537b4c2e871e5ba27101d19b.setIcon(icon_413f1678f3bbc8b649d3d5590a491931);\n        \n    \n            var marker_5e98a2e16467fb67c19fba99ae1a669d = L.marker(\n                [34.63283416, -120.6107455],\n                {}\n            ).addTo(marker_cluster_7b50d48fe538f2dc48bd465b62e0b276);\n        \n    \n            var icon_2da3a8651c8fdd235ffb8d335dd470df = L.AwesomeMarkers.icon(\n                {&quot;extraClasses&quot;: &quot;fa-rotate-0&quot;, &quot;icon&quot;: &quot;info-sign&quot;, &quot;iconColor&quot;: &quot;red&quot;, &quot;markerColor&quot;: &quot;white&quot;, &quot;prefix&quot;: &quot;glyphicon&quot;}\n            );\n            marker_5e98a2e16467fb67c19fba99ae1a669d.setIcon(icon_2da3a8651c8fdd235ffb8d335dd470df);\n        \n    \n            var marker_5a6babec883a0daa2951ebf360917cf4 = L.marker(\n                [34.63283416, -120.6107455],\n                {}\n            ).addTo(marker_cluster_7b50d48fe538f2dc48bd465b62e0b276);\n        \n    \n            var icon_83156423e23e3758452fea1192829ad1 = L.AwesomeMarkers.icon(\n                {&quot;extraClasses&quot;: &quot;fa-rotate-0&quot;, &quot;icon&quot;: &quot;info-sign&quot;, &quot;iconColor&quot;: &quot;red&quot;, &quot;markerColor&quot;: &quot;white&quot;, &quot;prefix&quot;: &quot;glyphicon&quot;}\n            );\n            marker_5a6babec883a0daa2951ebf360917cf4.setIcon(icon_83156423e23e3758452fea1192829ad1);\n        \n    \n            var marker_909e027c35516067049c19b3f4dfcd63 = L.marker(\n                [34.63283416, -120.6107455],\n                {}\n            ).addTo(marker_cluster_7b50d48fe538f2dc48bd465b62e0b276);\n        \n    \n            var icon_efde1b41e8fcbebe7432b11c922783b1 = L.AwesomeMarkers.icon(\n                {&quot;extraClasses&quot;: &quot;fa-rotate-0&quot;, &quot;icon&quot;: &quot;info-sign&quot;, &quot;iconColor&quot;: &quot;red&quot;, &quot;markerColor&quot;: &quot;white&quot;, &quot;prefix&quot;: &quot;glyphicon&quot;}\n            );\n            marker_909e027c35516067049c19b3f4dfcd63.setIcon(icon_efde1b41e8fcbebe7432b11c922783b1);\n        \n    \n            var marker_39a28daf6a0f2a1ccf3af3c57c4e2419 = L.marker(\n                [34.63283416, -120.6107455],\n                {}\n            ).addTo(marker_cluster_7b50d48fe538f2dc48bd465b62e0b276);\n        \n    \n            var icon_39fd89b5bc6d64b72e48f9b4a3445d10 = L.AwesomeMarkers.icon(\n                {&quot;extraClasses&quot;: &quot;fa-rotate-0&quot;, &quot;icon&quot;: &quot;info-sign&quot;, &quot;iconColor&quot;: &quot;red&quot;, &quot;markerColor&quot;: &quot;white&quot;, &quot;prefix&quot;: &quot;glyphicon&quot;}\n            );\n            marker_39a28daf6a0f2a1ccf3af3c57c4e2419.setIcon(icon_39fd89b5bc6d64b72e48f9b4a3445d10);\n        \n    \n            var marker_9b606dfb2aed028151353c36daa7082a = L.marker(\n                [28.57325457, -80.64689529],\n                {}\n            ).addTo(marker_cluster_7b50d48fe538f2dc48bd465b62e0b276);\n        \n    \n            var icon_38d086dae1408440372aef189e1ebf66 = L.AwesomeMarkers.icon(\n                {&quot;extraClasses&quot;: &quot;fa-rotate-0&quot;, &quot;icon&quot;: &quot;info-sign&quot;, &quot;iconColor&quot;: &quot;green&quot;, &quot;markerColor&quot;: &quot;white&quot;, &quot;prefix&quot;: &quot;glyphicon&quot;}\n            );\n            marker_9b606dfb2aed028151353c36daa7082a.setIcon(icon_38d086dae1408440372aef189e1ebf66);\n        \n    \n            var marker_294c0c4a9c6075ecef10dc8305862ad9 = L.marker(\n                [28.57325457, -80.64689529],\n                {}\n            ).addTo(marker_cluster_7b50d48fe538f2dc48bd465b62e0b276);\n        \n    \n            var icon_5a4100396fdb7d3af261c539688cd11b = L.AwesomeMarkers.icon(\n                {&quot;extraClasses&quot;: &quot;fa-rotate-0&quot;, &quot;icon&quot;: &quot;info-sign&quot;, &quot;iconColor&quot;: &quot;red&quot;, &quot;markerColor&quot;: &quot;white&quot;, &quot;prefix&quot;: &quot;glyphicon&quot;}\n            );\n            marker_294c0c4a9c6075ecef10dc8305862ad9.setIcon(icon_5a4100396fdb7d3af261c539688cd11b);\n        \n    \n            var marker_0d754a0fb190705abba0330eb1b4b0d8 = L.marker(\n                [28.57325457, -80.64689529],\n                {}\n            ).addTo(marker_cluster_7b50d48fe538f2dc48bd465b62e0b276);\n        \n    \n            var icon_4625771c1e3c4428742bb8e7a584670d = L.AwesomeMarkers.icon(\n                {&quot;extraClasses&quot;: &quot;fa-rotate-0&quot;, &quot;icon&quot;: &quot;info-sign&quot;, &quot;iconColor&quot;: &quot;green&quot;, &quot;markerColor&quot;: &quot;white&quot;, &quot;prefix&quot;: &quot;glyphicon&quot;}\n            );\n            marker_0d754a0fb190705abba0330eb1b4b0d8.setIcon(icon_4625771c1e3c4428742bb8e7a584670d);\n        \n    \n            var marker_f83c9e7078dbeadfa7c314f94a8624a0 = L.marker(\n                [28.57325457, -80.64689529],\n                {}\n            ).addTo(marker_cluster_7b50d48fe538f2dc48bd465b62e0b276);\n        \n    \n            var icon_3e5c23afc2d7bc9bd05d6eecf5edbe14 = L.AwesomeMarkers.icon(\n                {&quot;extraClasses&quot;: &quot;fa-rotate-0&quot;, &quot;icon&quot;: &quot;info-sign&quot;, &quot;iconColor&quot;: &quot;green&quot;, &quot;markerColor&quot;: &quot;white&quot;, &quot;prefix&quot;: &quot;glyphicon&quot;}\n            );\n            marker_f83c9e7078dbeadfa7c314f94a8624a0.setIcon(icon_3e5c23afc2d7bc9bd05d6eecf5edbe14);\n        \n    \n            var marker_739b77dff2bf9053d2296d99b8f7c5b5 = L.marker(\n                [28.57325457, -80.64689529],\n                {}\n            ).addTo(marker_cluster_7b50d48fe538f2dc48bd465b62e0b276);\n        \n    \n            var icon_49eedeb9bfec6d62897c0676ed8586f3 = L.AwesomeMarkers.icon(\n                {&quot;extraClasses&quot;: &quot;fa-rotate-0&quot;, &quot;icon&quot;: &quot;info-sign&quot;, &quot;iconColor&quot;: &quot;red&quot;, &quot;markerColor&quot;: &quot;white&quot;, &quot;prefix&quot;: &quot;glyphicon&quot;}\n            );\n            marker_739b77dff2bf9053d2296d99b8f7c5b5.setIcon(icon_49eedeb9bfec6d62897c0676ed8586f3);\n        \n    \n            var marker_76516c62ef2529138e1525959c241202 = L.marker(\n                [28.57325457, -80.64689529],\n                {}\n            ).addTo(marker_cluster_7b50d48fe538f2dc48bd465b62e0b276);\n        \n    \n            var icon_c92877ab1c7fc4d523ecac764fc53b42 = L.AwesomeMarkers.icon(\n                {&quot;extraClasses&quot;: &quot;fa-rotate-0&quot;, &quot;icon&quot;: &quot;info-sign&quot;, &quot;iconColor&quot;: &quot;green&quot;, &quot;markerColor&quot;: &quot;white&quot;, &quot;prefix&quot;: &quot;glyphicon&quot;}\n            );\n            marker_76516c62ef2529138e1525959c241202.setIcon(icon_c92877ab1c7fc4d523ecac764fc53b42);\n        \n    \n            var marker_f1528cdc9f625ccdfd40aafa36ae87cd = L.marker(\n                [28.57325457, -80.64689529],\n                {}\n            ).addTo(marker_cluster_7b50d48fe538f2dc48bd465b62e0b276);\n        \n    \n            var icon_569d5b1eaeb78cea4a3000bc83502a7d = L.AwesomeMarkers.icon(\n                {&quot;extraClasses&quot;: &quot;fa-rotate-0&quot;, &quot;icon&quot;: &quot;info-sign&quot;, &quot;iconColor&quot;: &quot;green&quot;, &quot;markerColor&quot;: &quot;white&quot;, &quot;prefix&quot;: &quot;glyphicon&quot;}\n            );\n            marker_f1528cdc9f625ccdfd40aafa36ae87cd.setIcon(icon_569d5b1eaeb78cea4a3000bc83502a7d);\n        \n    \n            var marker_629f7c1bc6d31916271f07353652b943 = L.marker(\n                [28.57325457, -80.64689529],\n                {}\n            ).addTo(marker_cluster_7b50d48fe538f2dc48bd465b62e0b276);\n        \n    \n            var icon_1ac4887780ed9f5a4a35bf822d5b9230 = L.AwesomeMarkers.icon(\n                {&quot;extraClasses&quot;: &quot;fa-rotate-0&quot;, &quot;icon&quot;: &quot;info-sign&quot;, &quot;iconColor&quot;: &quot;red&quot;, &quot;markerColor&quot;: &quot;white&quot;, &quot;prefix&quot;: &quot;glyphicon&quot;}\n            );\n            marker_629f7c1bc6d31916271f07353652b943.setIcon(icon_1ac4887780ed9f5a4a35bf822d5b9230);\n        \n    \n            var marker_b6300da7f8a4d2455db664363025fb89 = L.marker(\n                [28.57325457, -80.64689529],\n                {}\n            ).addTo(marker_cluster_7b50d48fe538f2dc48bd465b62e0b276);\n        \n    \n            var icon_cb037195582b7cde03172504814621e5 = L.AwesomeMarkers.icon(\n                {&quot;extraClasses&quot;: &quot;fa-rotate-0&quot;, &quot;icon&quot;: &quot;info-sign&quot;, &quot;iconColor&quot;: &quot;green&quot;, &quot;markerColor&quot;: &quot;white&quot;, &quot;prefix&quot;: &quot;glyphicon&quot;}\n            );\n            marker_b6300da7f8a4d2455db664363025fb89.setIcon(icon_cb037195582b7cde03172504814621e5);\n        \n    \n            var marker_875ffd7b81e64ebff4ddf4892aa987c3 = L.marker(\n                [28.57325457, -80.64689529],\n                {}\n            ).addTo(marker_cluster_7b50d48fe538f2dc48bd465b62e0b276);\n        \n    \n            var icon_289f2a94888e6cb47e9c4d6d4c82a7ed = L.AwesomeMarkers.icon(\n                {&quot;extraClasses&quot;: &quot;fa-rotate-0&quot;, &quot;icon&quot;: &quot;info-sign&quot;, &quot;iconColor&quot;: &quot;green&quot;, &quot;markerColor&quot;: &quot;white&quot;, &quot;prefix&quot;: &quot;glyphicon&quot;}\n            );\n            marker_875ffd7b81e64ebff4ddf4892aa987c3.setIcon(icon_289f2a94888e6cb47e9c4d6d4c82a7ed);\n        \n    \n            var marker_1eba22d91266525a5ee34e5fabad46c5 = L.marker(\n                [28.57325457, -80.64689529],\n                {}\n            ).addTo(marker_cluster_7b50d48fe538f2dc48bd465b62e0b276);\n        \n    \n            var icon_2f0598dee522b2b03a1033d70778be28 = L.AwesomeMarkers.icon(\n                {&quot;extraClasses&quot;: &quot;fa-rotate-0&quot;, &quot;icon&quot;: &quot;info-sign&quot;, &quot;iconColor&quot;: &quot;green&quot;, &quot;markerColor&quot;: &quot;white&quot;, &quot;prefix&quot;: &quot;glyphicon&quot;}\n            );\n            marker_1eba22d91266525a5ee34e5fabad46c5.setIcon(icon_2f0598dee522b2b03a1033d70778be28);\n        \n    \n            var marker_dc6a7825d76fe4b3b17f432843f518e6 = L.marker(\n                [28.57325457, -80.64689529],\n                {}\n            ).addTo(marker_cluster_7b50d48fe538f2dc48bd465b62e0b276);\n        \n    \n            var icon_74d7c077f68d46315674f55b66806dd2 = L.AwesomeMarkers.icon(\n                {&quot;extraClasses&quot;: &quot;fa-rotate-0&quot;, &quot;icon&quot;: &quot;info-sign&quot;, &quot;iconColor&quot;: &quot;green&quot;, &quot;markerColor&quot;: &quot;white&quot;, &quot;prefix&quot;: &quot;glyphicon&quot;}\n            );\n            marker_dc6a7825d76fe4b3b17f432843f518e6.setIcon(icon_74d7c077f68d46315674f55b66806dd2);\n        \n    \n            var marker_b1db290404a629f11be19988f546c483 = L.marker(\n                [28.57325457, -80.64689529],\n                {}\n            ).addTo(marker_cluster_7b50d48fe538f2dc48bd465b62e0b276);\n        \n    \n            var icon_a3326c7476fe8a07b78b1448307114d3 = L.AwesomeMarkers.icon(\n                {&quot;extraClasses&quot;: &quot;fa-rotate-0&quot;, &quot;icon&quot;: &quot;info-sign&quot;, &quot;iconColor&quot;: &quot;green&quot;, &quot;markerColor&quot;: &quot;white&quot;, &quot;prefix&quot;: &quot;glyphicon&quot;}\n            );\n            marker_b1db290404a629f11be19988f546c483.setIcon(icon_a3326c7476fe8a07b78b1448307114d3);\n        \n    \n            var marker_2400ef306cb054a7e8665f51e3995333 = L.marker(\n                [28.56319718, -80.57682003],\n                {}\n            ).addTo(marker_cluster_7b50d48fe538f2dc48bd465b62e0b276);\n        \n    \n            var icon_88f406d825d5f2874f6fcb0dceed3977 = L.AwesomeMarkers.icon(\n                {&quot;extraClasses&quot;: &quot;fa-rotate-0&quot;, &quot;icon&quot;: &quot;info-sign&quot;, &quot;iconColor&quot;: &quot;green&quot;, &quot;markerColor&quot;: &quot;white&quot;, &quot;prefix&quot;: &quot;glyphicon&quot;}\n            );\n            marker_2400ef306cb054a7e8665f51e3995333.setIcon(icon_88f406d825d5f2874f6fcb0dceed3977);\n        \n    \n            var marker_23d4dcd8961f73cedb595b8db0b3fa1f = L.marker(\n                [28.56319718, -80.57682003],\n                {}\n            ).addTo(marker_cluster_7b50d48fe538f2dc48bd465b62e0b276);\n        \n    \n            var icon_ef9c4b5f0fc0d118d999d5ced48aec4d = L.AwesomeMarkers.icon(\n                {&quot;extraClasses&quot;: &quot;fa-rotate-0&quot;, &quot;icon&quot;: &quot;info-sign&quot;, &quot;iconColor&quot;: &quot;green&quot;, &quot;markerColor&quot;: &quot;white&quot;, &quot;prefix&quot;: &quot;glyphicon&quot;}\n            );\n            marker_23d4dcd8961f73cedb595b8db0b3fa1f.setIcon(icon_ef9c4b5f0fc0d118d999d5ced48aec4d);\n        \n    \n            var marker_e4cb7a6435b4e761816be65f20dee63f = L.marker(\n                [28.56319718, -80.57682003],\n                {}\n            ).addTo(marker_cluster_7b50d48fe538f2dc48bd465b62e0b276);\n        \n    \n            var icon_30aa858fa694bb25062c2ece91f2a5e8 = L.AwesomeMarkers.icon(\n                {&quot;extraClasses&quot;: &quot;fa-rotate-0&quot;, &quot;icon&quot;: &quot;info-sign&quot;, &quot;iconColor&quot;: &quot;red&quot;, &quot;markerColor&quot;: &quot;white&quot;, &quot;prefix&quot;: &quot;glyphicon&quot;}\n            );\n            marker_e4cb7a6435b4e761816be65f20dee63f.setIcon(icon_30aa858fa694bb25062c2ece91f2a5e8);\n        \n    \n            var marker_1afa8de942921d7416efd2bd10b6083f = L.marker(\n                [28.56319718, -80.57682003],\n                {}\n            ).addTo(marker_cluster_7b50d48fe538f2dc48bd465b62e0b276);\n        \n    \n            var icon_227748e2ec89cc27ee4d0546746a1075 = L.AwesomeMarkers.icon(\n                {&quot;extraClasses&quot;: &quot;fa-rotate-0&quot;, &quot;icon&quot;: &quot;info-sign&quot;, &quot;iconColor&quot;: &quot;red&quot;, &quot;markerColor&quot;: &quot;white&quot;, &quot;prefix&quot;: &quot;glyphicon&quot;}\n            );\n            marker_1afa8de942921d7416efd2bd10b6083f.setIcon(icon_227748e2ec89cc27ee4d0546746a1075);\n        \n    \n            var marker_9782333781e2fbb6d15c75b21dea4d64 = L.marker(\n                [28.56319718, -80.57682003],\n                {}\n            ).addTo(marker_cluster_7b50d48fe538f2dc48bd465b62e0b276);\n        \n    \n            var icon_b7ee3bb2def22e894f1929c1ec78a3a1 = L.AwesomeMarkers.icon(\n                {&quot;extraClasses&quot;: &quot;fa-rotate-0&quot;, &quot;icon&quot;: &quot;info-sign&quot;, &quot;iconColor&quot;: &quot;red&quot;, &quot;markerColor&quot;: &quot;white&quot;, &quot;prefix&quot;: &quot;glyphicon&quot;}\n            );\n            marker_9782333781e2fbb6d15c75b21dea4d64.setIcon(icon_b7ee3bb2def22e894f1929c1ec78a3a1);\n        \n    \n            var marker_cede5fc6ddcc3c0af07c633d9b4f6535 = L.marker(\n                [28.56319718, -80.57682003],\n                {}\n            ).addTo(marker_cluster_7b50d48fe538f2dc48bd465b62e0b276);\n        \n    \n            var icon_9fd3ab74978ad83a70ac4aa572ae7836 = L.AwesomeMarkers.icon(\n                {&quot;extraClasses&quot;: &quot;fa-rotate-0&quot;, &quot;icon&quot;: &quot;info-sign&quot;, &quot;iconColor&quot;: &quot;green&quot;, &quot;markerColor&quot;: &quot;white&quot;, &quot;prefix&quot;: &quot;glyphicon&quot;}\n            );\n            marker_cede5fc6ddcc3c0af07c633d9b4f6535.setIcon(icon_9fd3ab74978ad83a70ac4aa572ae7836);\n        \n    \n            var marker_eab78bf6a8addd24ea9708cb4c7bc97a = L.marker(\n                [28.56319718, -80.57682003],\n                {}\n            ).addTo(marker_cluster_7b50d48fe538f2dc48bd465b62e0b276);\n        \n    \n            var icon_e40af46c30dd1d7329c62c574be7ef72 = L.AwesomeMarkers.icon(\n                {&quot;extraClasses&quot;: &quot;fa-rotate-0&quot;, &quot;icon&quot;: &quot;info-sign&quot;, &quot;iconColor&quot;: &quot;red&quot;, &quot;markerColor&quot;: &quot;white&quot;, &quot;prefix&quot;: &quot;glyphicon&quot;}\n            );\n            marker_eab78bf6a8addd24ea9708cb4c7bc97a.setIcon(icon_e40af46c30dd1d7329c62c574be7ef72);\n        \n    \n            marker_cluster_7b50d48fe538f2dc48bd465b62e0b276.addTo(map_4ea26a74aacbfd70b3d21b059a6b7b3a);\n        \n&lt;/script&gt;\n&lt;/html&gt;\" style=\"position:absolute;width:100%;height:100%;left:0;top:0;border:none !important;\" allowfullscreen webkitallowfullscreen mozallowfullscreen></iframe></div></div>"
          },
          "metadata": {}
        }
      ],
      "execution_count": 56
    },
    {
      "cell_type": "markdown",
      "source": "Your updated map may look like the following screenshots:\n",
      "metadata": {}
    },
    {
      "cell_type": "markdown",
      "source": "<center>\n    <img src=\"https://cf-courses-data.s3.us.cloud-object-storage.appdomain.cloud/IBM-DS0321EN-SkillsNetwork/labs/module_3/images/launch_site_marker_cluster.png\">\n</center>\n",
      "metadata": {}
    },
    {
      "cell_type": "markdown",
      "source": "<center>\n    <img src=\"https://cf-courses-data.s3.us.cloud-object-storage.appdomain.cloud/IBM-DS0321EN-SkillsNetwork/labs/module_3/images/launch_site_marker_cluster_zoomed.png\">\n</center>\n",
      "metadata": {}
    },
    {
      "cell_type": "markdown",
      "source": "From the color-labeled markers in marker clusters, you should be able to easily identify which launch sites have relatively high success rates.\n",
      "metadata": {}
    },
    {
      "cell_type": "code",
      "source": "# TASK 3: Calculate the distances between a launch site to its proximities\n",
      "metadata": {
        "trusted": true
      },
      "outputs": [],
      "execution_count": 38
    },
    {
      "cell_type": "markdown",
      "source": "Next, we need to explore and analyze the proximities of launch sites.\n",
      "metadata": {}
    },
    {
      "cell_type": "markdown",
      "source": "Let's first add a `MousePosition` on the map to get coordinate for a mouse over a point on the map. As such, while you are exploring the map, you can easily find the coordinates of any points of interests (such as railway)\n",
      "metadata": {}
    },
    {
      "cell_type": "code",
      "source": "# Add Mouse Position to get the coordinate (Lat, Long) for a mouse over on the map\nformatter = \"function(num) {return L.Util.formatNum(num, 5);};\"\nmouse_position = MousePosition(\n    position='topright',\n    separator=' Long: ',\n    empty_string='NaN',\n    lng_first=False,\n    num_digits=20,\n    prefix='Lat:',\n    lat_formatter=formatter,\n    lng_formatter=formatter,\n)\n\nsite_map.add_child(mouse_position)\nsite_map",
      "metadata": {
        "trusted": true
      },
      "outputs": [
        {
          "execution_count": 39,
          "output_type": "execute_result",
          "data": {
            "text/plain": "<folium.folium.Map at 0x5bc49d8>",
            "text/html": "<div style=\"width:100%;\"><div style=\"position:relative;width:100%;height:0;padding-bottom:60%;\"><span style=\"color:#565656\">Make this Notebook Trusted to load map: File -> Trust Notebook</span><iframe srcdoc=\"&lt;!DOCTYPE html&gt;\n&lt;html&gt;\n&lt;head&gt;\n    \n    &lt;meta http-equiv=&quot;content-type&quot; content=&quot;text/html; charset=UTF-8&quot; /&gt;\n    \n        &lt;script&gt;\n            L_NO_TOUCH = false;\n            L_DISABLE_3D = false;\n        &lt;/script&gt;\n    \n    &lt;style&gt;html, body {width: 100%;height: 100%;margin: 0;padding: 0;}&lt;/style&gt;\n    &lt;style&gt;#map {position:absolute;top:0;bottom:0;right:0;left:0;}&lt;/style&gt;\n    &lt;script src=&quot;https://cdn.jsdelivr.net/npm/leaflet@1.9.3/dist/leaflet.js&quot;&gt;&lt;/script&gt;\n    &lt;script src=&quot;https://code.jquery.com/jquery-3.7.1.min.js&quot;&gt;&lt;/script&gt;\n    &lt;script src=&quot;https://cdn.jsdelivr.net/npm/bootstrap@5.2.2/dist/js/bootstrap.bundle.min.js&quot;&gt;&lt;/script&gt;\n    &lt;script src=&quot;https://cdnjs.cloudflare.com/ajax/libs/Leaflet.awesome-markers/2.0.2/leaflet.awesome-markers.js&quot;&gt;&lt;/script&gt;\n    &lt;link rel=&quot;stylesheet&quot; href=&quot;https://cdn.jsdelivr.net/npm/leaflet@1.9.3/dist/leaflet.css&quot;/&gt;\n    &lt;link rel=&quot;stylesheet&quot; href=&quot;https://cdn.jsdelivr.net/npm/bootstrap@5.2.2/dist/css/bootstrap.min.css&quot;/&gt;\n    &lt;link rel=&quot;stylesheet&quot; href=&quot;https://netdna.bootstrapcdn.com/bootstrap/3.0.0/css/bootstrap.min.css&quot;/&gt;\n    &lt;link rel=&quot;stylesheet&quot; href=&quot;https://cdn.jsdelivr.net/npm/@fortawesome/fontawesome-free@6.2.0/css/all.min.css&quot;/&gt;\n    &lt;link rel=&quot;stylesheet&quot; href=&quot;https://cdnjs.cloudflare.com/ajax/libs/Leaflet.awesome-markers/2.0.2/leaflet.awesome-markers.css&quot;/&gt;\n    &lt;link rel=&quot;stylesheet&quot; href=&quot;https://cdn.jsdelivr.net/gh/python-visualization/folium/folium/templates/leaflet.awesome.rotate.min.css&quot;/&gt;\n    \n            &lt;meta name=&quot;viewport&quot; content=&quot;width=device-width,\n                initial-scale=1.0, maximum-scale=1.0, user-scalable=no&quot; /&gt;\n            &lt;style&gt;\n                #map_c3a29114aee6b6b5836976d4da66345f {\n                    position: relative;\n                    width: 100.0%;\n                    height: 100.0%;\n                    left: 0.0%;\n                    top: 0.0%;\n                }\n                .leaflet-container { font-size: 1rem; }\n            &lt;/style&gt;\n        \n    &lt;script src=&quot;https://cdnjs.cloudflare.com/ajax/libs/leaflet.markercluster/1.1.0/leaflet.markercluster.js&quot;&gt;&lt;/script&gt;\n    &lt;link rel=&quot;stylesheet&quot; href=&quot;https://cdnjs.cloudflare.com/ajax/libs/leaflet.markercluster/1.1.0/MarkerCluster.css&quot;/&gt;\n    &lt;link rel=&quot;stylesheet&quot; href=&quot;https://cdnjs.cloudflare.com/ajax/libs/leaflet.markercluster/1.1.0/MarkerCluster.Default.css&quot;/&gt;\n    &lt;script src=&quot;https://cdn.jsdelivr.net/gh/ardhi/Leaflet.MousePosition/src/L.Control.MousePosition.min.js&quot;&gt;&lt;/script&gt;\n    &lt;link rel=&quot;stylesheet&quot; href=&quot;https://cdn.jsdelivr.net/gh/ardhi/Leaflet.MousePosition/src/L.Control.MousePosition.min.css&quot;/&gt;\n&lt;/head&gt;\n&lt;body&gt;\n    \n    \n            &lt;div class=&quot;folium-map&quot; id=&quot;map_c3a29114aee6b6b5836976d4da66345f&quot; &gt;&lt;/div&gt;\n        \n&lt;/body&gt;\n&lt;script&gt;\n    \n    \n            var map_c3a29114aee6b6b5836976d4da66345f = L.map(\n                &quot;map_c3a29114aee6b6b5836976d4da66345f&quot;,\n                {\n                    center: [29.559684888503615, -95.0830971930759],\n                    crs: L.CRS.EPSG3857,\n                    zoom: 5,\n                    zoomControl: true,\n                    preferCanvas: false,\n                }\n            );\n\n            \n\n        \n    \n            var tile_layer_c15a4d6b03dfd0a59832799c7213b484 = L.tileLayer(\n                &quot;https://tile.openstreetmap.org/{z}/{x}/{y}.png&quot;,\n                {&quot;attribution&quot;: &quot;\\u0026copy; \\u003ca href=\\&quot;https://www.openstreetmap.org/copyright\\&quot;\\u003eOpenStreetMap\\u003c/a\\u003e contributors&quot;, &quot;detectRetina&quot;: false, &quot;maxNativeZoom&quot;: 19, &quot;maxZoom&quot;: 19, &quot;minZoom&quot;: 0, &quot;noWrap&quot;: false, &quot;opacity&quot;: 1, &quot;subdomains&quot;: &quot;abc&quot;, &quot;tms&quot;: false}\n            );\n        \n    \n            tile_layer_c15a4d6b03dfd0a59832799c7213b484.addTo(map_c3a29114aee6b6b5836976d4da66345f);\n        \n    \n            var circle_a78317e23a415ec13f888f71db1ce73d = L.circle(\n                [28.56230197, -80.57735648],\n                {&quot;bubblingMouseEvents&quot;: true, &quot;color&quot;: &quot;#d35400&quot;, &quot;dashArray&quot;: null, &quot;dashOffset&quot;: null, &quot;fill&quot;: true, &quot;fillColor&quot;: &quot;#d35400&quot;, &quot;fillOpacity&quot;: 0.2, &quot;fillRule&quot;: &quot;evenodd&quot;, &quot;lineCap&quot;: &quot;round&quot;, &quot;lineJoin&quot;: &quot;round&quot;, &quot;opacity&quot;: 1.0, &quot;radius&quot;: 50, &quot;stroke&quot;: true, &quot;weight&quot;: 3}\n            ).addTo(map_c3a29114aee6b6b5836976d4da66345f);\n        \n    \n        var popup_55010c5443bc0f2f2e3f26666cc3ee70 = L.popup({&quot;maxWidth&quot;: &quot;100%&quot;});\n\n        \n            \n                var html_5dbad7e7c4c19a29d28cdf89ae681831 = $(`&lt;div id=&quot;html_5dbad7e7c4c19a29d28cdf89ae681831&quot; style=&quot;width: 100.0%; height: 100.0%;&quot;&gt;CCAFS LC-40&lt;/div&gt;`)[0];\n                popup_55010c5443bc0f2f2e3f26666cc3ee70.setContent(html_5dbad7e7c4c19a29d28cdf89ae681831);\n            \n        \n\n        circle_a78317e23a415ec13f888f71db1ce73d.bindPopup(popup_55010c5443bc0f2f2e3f26666cc3ee70)\n        ;\n\n        \n    \n    \n            var circle_cb2354e4c664c490617246a8cab1bcbf = L.circle(\n                [28.56319718, -80.57682003],\n                {&quot;bubblingMouseEvents&quot;: true, &quot;color&quot;: &quot;#d35400&quot;, &quot;dashArray&quot;: null, &quot;dashOffset&quot;: null, &quot;fill&quot;: true, &quot;fillColor&quot;: &quot;#d35400&quot;, &quot;fillOpacity&quot;: 0.2, &quot;fillRule&quot;: &quot;evenodd&quot;, &quot;lineCap&quot;: &quot;round&quot;, &quot;lineJoin&quot;: &quot;round&quot;, &quot;opacity&quot;: 1.0, &quot;radius&quot;: 50, &quot;stroke&quot;: true, &quot;weight&quot;: 3}\n            ).addTo(map_c3a29114aee6b6b5836976d4da66345f);\n        \n    \n        var popup_3846165a1c9d03f4f6f9ae977cb44ae0 = L.popup({&quot;maxWidth&quot;: &quot;100%&quot;});\n\n        \n            \n                var html_bfa69f5b20ab8117380ad7de382cc1ba = $(`&lt;div id=&quot;html_bfa69f5b20ab8117380ad7de382cc1ba&quot; style=&quot;width: 100.0%; height: 100.0%;&quot;&gt;CCAFS SLC-40&lt;/div&gt;`)[0];\n                popup_3846165a1c9d03f4f6f9ae977cb44ae0.setContent(html_bfa69f5b20ab8117380ad7de382cc1ba);\n            \n        \n\n        circle_cb2354e4c664c490617246a8cab1bcbf.bindPopup(popup_3846165a1c9d03f4f6f9ae977cb44ae0)\n        ;\n\n        \n    \n    \n            var circle_57fae53026e259a298919f7ff368554e = L.circle(\n                [28.57325457, -80.64689529],\n                {&quot;bubblingMouseEvents&quot;: true, &quot;color&quot;: &quot;#d35400&quot;, &quot;dashArray&quot;: null, &quot;dashOffset&quot;: null, &quot;fill&quot;: true, &quot;fillColor&quot;: &quot;#d35400&quot;, &quot;fillOpacity&quot;: 0.2, &quot;fillRule&quot;: &quot;evenodd&quot;, &quot;lineCap&quot;: &quot;round&quot;, &quot;lineJoin&quot;: &quot;round&quot;, &quot;opacity&quot;: 1.0, &quot;radius&quot;: 50, &quot;stroke&quot;: true, &quot;weight&quot;: 3}\n            ).addTo(map_c3a29114aee6b6b5836976d4da66345f);\n        \n    \n        var popup_8a9ed91f6b0f14253503c52e8debf591 = L.popup({&quot;maxWidth&quot;: &quot;100%&quot;});\n\n        \n            \n                var html_9b65c3a8ebb8c7fb921a3726fbd14af3 = $(`&lt;div id=&quot;html_9b65c3a8ebb8c7fb921a3726fbd14af3&quot; style=&quot;width: 100.0%; height: 100.0%;&quot;&gt;KSC LC-39A&lt;/div&gt;`)[0];\n                popup_8a9ed91f6b0f14253503c52e8debf591.setContent(html_9b65c3a8ebb8c7fb921a3726fbd14af3);\n            \n        \n\n        circle_57fae53026e259a298919f7ff368554e.bindPopup(popup_8a9ed91f6b0f14253503c52e8debf591)\n        ;\n\n        \n    \n    \n            var circle_e019a85ecb0d8d0f9a1b4b5394e6b67b = L.circle(\n                [34.63283416, -120.6107455],\n                {&quot;bubblingMouseEvents&quot;: true, &quot;color&quot;: &quot;#d35400&quot;, &quot;dashArray&quot;: null, &quot;dashOffset&quot;: null, &quot;fill&quot;: true, &quot;fillColor&quot;: &quot;#d35400&quot;, &quot;fillOpacity&quot;: 0.2, &quot;fillRule&quot;: &quot;evenodd&quot;, &quot;lineCap&quot;: &quot;round&quot;, &quot;lineJoin&quot;: &quot;round&quot;, &quot;opacity&quot;: 1.0, &quot;radius&quot;: 50, &quot;stroke&quot;: true, &quot;weight&quot;: 3}\n            ).addTo(map_c3a29114aee6b6b5836976d4da66345f);\n        \n    \n        var popup_257899f78dc924cf75664c169e8e956a = L.popup({&quot;maxWidth&quot;: &quot;100%&quot;});\n\n        \n            \n                var html_1aef49cdf09c0450287be908bc137d00 = $(`&lt;div id=&quot;html_1aef49cdf09c0450287be908bc137d00&quot; style=&quot;width: 100.0%; height: 100.0%;&quot;&gt;VAFB SLC-4E&lt;/div&gt;`)[0];\n                popup_257899f78dc924cf75664c169e8e956a.setContent(html_1aef49cdf09c0450287be908bc137d00);\n            \n        \n\n        circle_e019a85ecb0d8d0f9a1b4b5394e6b67b.bindPopup(popup_257899f78dc924cf75664c169e8e956a)\n        ;\n\n        \n    \n    \n            tile_layer_c15a4d6b03dfd0a59832799c7213b484.addTo(map_c3a29114aee6b6b5836976d4da66345f);\n        \n    \n            var marker_cluster_e0735584b7fd8c343a9e16844315daf8 = L.markerClusterGroup(\n                {}\n            );\n        \n    \n            var marker_f131d95bf2999d676e71c4caed8edc40 = L.marker(\n                [29.559684888503615, -95.0830971930759],\n                {}\n            ).addTo(marker_cluster_e0735584b7fd8c343a9e16844315daf8);\n        \n    \n            var div_icon_6187980c93d445925b0f8fb72a5279aa = L.divIcon({&quot;className&quot;: &quot;empty&quot;, &quot;html&quot;: &quot;\\u003cdiv style=\\&quot;font-size: 12; color:#d35400;\\&quot;\\u003e\\u003cb\\u003eNASA JSC\\u003c/b\\u003e\\u003c/div\\u003e&quot;, &quot;iconAnchor&quot;: [0, 0], &quot;iconSize&quot;: [20, 20]});\n            marker_f131d95bf2999d676e71c4caed8edc40.setIcon(div_icon_6187980c93d445925b0f8fb72a5279aa);\n        \n    \n            marker_cluster_e0735584b7fd8c343a9e16844315daf8.addTo(map_c3a29114aee6b6b5836976d4da66345f);\n        \n    \n            tile_layer_c15a4d6b03dfd0a59832799c7213b484.addTo(map_c3a29114aee6b6b5836976d4da66345f);\n        \n    \n            marker_cluster_e0735584b7fd8c343a9e16844315daf8.addTo(map_c3a29114aee6b6b5836976d4da66345f);\n        \n    \n            var mouse_position_726c1332f21e0815a913873d3b35c18a = new L.Control.MousePosition(\n                {&quot;emptyString&quot;: &quot;NaN&quot;, &quot;lngFirst&quot;: false, &quot;numDigits&quot;: 20, &quot;position&quot;: &quot;topright&quot;, &quot;prefix&quot;: &quot;Lat:&quot;, &quot;separator&quot;: &quot; Long: &quot;}\n            );\n            mouse_position_726c1332f21e0815a913873d3b35c18a.options[&quot;latFormatter&quot;] =\n                function(num) {return L.Util.formatNum(num, 5);};;\n            mouse_position_726c1332f21e0815a913873d3b35c18a.options[&quot;lngFormatter&quot;] =\n                function(num) {return L.Util.formatNum(num, 5);};;\n            map_c3a29114aee6b6b5836976d4da66345f.addControl(mouse_position_726c1332f21e0815a913873d3b35c18a);\n        \n&lt;/script&gt;\n&lt;/html&gt;\" style=\"position:absolute;width:100%;height:100%;left:0;top:0;border:none !important;\" allowfullscreen webkitallowfullscreen mozallowfullscreen></iframe></div></div>"
          },
          "metadata": {}
        }
      ],
      "execution_count": 39
    },
    {
      "cell_type": "markdown",
      "source": "Now zoom in to a launch site and explore its proximity to see if you can easily find any railway, highway, coastline, etc. Move your mouse to these points and mark down their coordinates (shown on the top-left) in order to the distance to the launch site.\n",
      "metadata": {}
    },
    {
      "cell_type": "markdown",
      "source": "Now zoom in to a launch site and explore its proximity to see if you can easily find any railway, highway, coastline, etc. Move your mouse to these points and mark down their coordinates (shown on the top-left) in order to the distance to the launch site.\n",
      "metadata": {}
    },
    {
      "cell_type": "code",
      "source": "from math import sin, cos, sqrt, atan2, radians\n\ndef calculate_distance(lat1, lon1, lat2, lon2):\n    # approximate radius of earth in km\n    R = 6373.0\n\n    lat1 = radians(lat1)\n    lon1 = radians(lon1)\n    lat2 = radians(lat2)\n    lon2 = radians(lon2)\n\n    dlon = lon2 - lon1\n    dlat = lat2 - lat1\n\n    a = sin(dlat / 2)**2 + cos(lat1) * cos(lat2) * sin(dlon / 2)**2\n    c = 2 * atan2(sqrt(a), sqrt(1 - a))\n\n    distance = R * c\n    return distance",
      "metadata": {
        "trusted": true
      },
      "outputs": [],
      "execution_count": 40
    },
    {
      "cell_type": "markdown",
      "source": "*TODO:* Mark down a point on the closest coastline using MousePosition and calculate the distance between the coastline point and the launch site.\n",
      "metadata": {}
    },
    {
      "cell_type": "code",
      "source": "# find coordinate of the closet coastline\n# e.g.,: Lat: 28.56367  Lon: -80.57163\n# distance_coastline = calculate_distance(launch_site_lat, launch_site_lon, coastline_lat, coastline_lon)",
      "metadata": {
        "trusted": true
      },
      "outputs": [],
      "execution_count": 41
    },
    {
      "cell_type": "code",
      "source": "# Create and add a folium.Marker on your selected closest coastline point on the map\n# Display the distance between coastline point and launch site using the icon property \n# for example\n# distance_marker = folium.Marker(\n#    coordinate,\n#    icon=DivIcon(\n#        icon_size=(20,20),\n#        icon_anchor=(0,0),\n#        html='<div style=\"font-size: 12; color:#d35400;\"><b>%s</b></div>' % \"{:10.2f} KM\".format(distance),\n#        )\n#    )",
      "metadata": {
        "trusted": true
      },
      "outputs": [],
      "execution_count": 42
    },
    {
      "cell_type": "markdown",
      "source": "*TODO:* Draw a `PolyLine` between a launch site to the selected coastline point\n",
      "metadata": {}
    },
    {
      "cell_type": "code",
      "source": "# Create a `folium.PolyLine` object using the coastline coordinates and launch site coordinate\n# lines=folium.PolyLine(locations=coordinates, weight=1)\nsite_map.add_child(lines)",
      "metadata": {
        "trusted": true
      },
      "outputs": [
        {
          "ename": "<class 'NameError'>",
          "evalue": "name 'lines' is not defined",
          "traceback": [
            "\u001b[0;31m---------------------------------------------------------------------------\u001b[0m",
            "\u001b[0;31mNameError\u001b[0m                                 Traceback (most recent call last)",
            "Cell \u001b[0;32mIn[43], line 3\u001b[0m\n\u001b[1;32m      1\u001b[0m \u001b[38;5;66;03m# Create a `folium.PolyLine` object using the coastline coordinates and launch site coordinate\u001b[39;00m\n\u001b[1;32m      2\u001b[0m \u001b[38;5;66;03m# lines=folium.PolyLine(locations=coordinates, weight=1)\u001b[39;00m\n\u001b[0;32m----> 3\u001b[0m site_map\u001b[38;5;241m.\u001b[39madd_child(\u001b[43mlines\u001b[49m)\n",
            "\u001b[0;31mNameError\u001b[0m: name 'lines' is not defined"
          ],
          "output_type": "error"
        }
      ],
      "execution_count": 43
    },
    {
      "cell_type": "markdown",
      "source": "Your updated map with distance line should look like the following screenshot:\n",
      "metadata": {}
    },
    {
      "cell_type": "markdown",
      "source": "<center>\n    <img src=\"https://cf-courses-data.s3.us.cloud-object-storage.appdomain.cloud/IBM-DS0321EN-SkillsNetwork/labs/module_3/images/launch_site_marker_distance.png\">\n</center>\n",
      "metadata": {}
    },
    {
      "cell_type": "markdown",
      "source": "*TODO:* Similarly, you can draw a line betwee a launch site to its closest city, railway, highway, etc. You need to use `MousePosition` to find the their coordinates on the map first\n",
      "metadata": {}
    },
    {
      "cell_type": "markdown",
      "source": "A railway map symbol may look like this:\n",
      "metadata": {}
    },
    {
      "cell_type": "markdown",
      "source": "<center>\n    <img src=\"https://cf-courses-data.s3.us.cloud-object-storage.appdomain.cloud/IBM-DS0321EN-SkillsNetwork/labs/module_3/images/railway.png\">\n</center>\n",
      "metadata": {}
    },
    {
      "cell_type": "markdown",
      "source": "A highway map symbol may look like this:\n",
      "metadata": {}
    },
    {
      "cell_type": "markdown",
      "source": "<center>\n    <img src=\"https://cf-courses-data.s3.us.cloud-object-storage.appdomain.cloud/IBM-DS0321EN-SkillsNetwork/labs/module_3/images/highway.png\">\n</center>\n",
      "metadata": {}
    },
    {
      "cell_type": "markdown",
      "source": "A city map symbol may look like this:\n",
      "metadata": {}
    },
    {
      "cell_type": "markdown",
      "source": "<center>\n    <img src=\"https://cf-courses-data.s3.us.cloud-object-storage.appdomain.cloud/IBM-DS0321EN-SkillsNetwork/labs/module_3/images/city.png\">\n</center>\n",
      "metadata": {}
    },
    {
      "cell_type": "code",
      "source": "# Create a marker with distance to a closest city, railway, highway, etc.\n# Draw a line between the marker to the launch site\n",
      "metadata": {
        "trusted": true
      },
      "outputs": [],
      "execution_count": 44
    },
    {
      "cell_type": "code",
      "source": "",
      "metadata": {
        "trusted": true
      },
      "outputs": [],
      "execution_count": null
    },
    {
      "cell_type": "code",
      "source": "",
      "metadata": {
        "trusted": true
      },
      "outputs": [],
      "execution_count": null
    },
    {
      "cell_type": "markdown",
      "source": "After you plot distance lines to the proximities, you can answer the following questions easily:\n\n*   Are launch sites in close proximity to railways?\n*   Are launch sites in close proximity to highways?\n*   Are launch sites in close proximity to coastline?\n*   Do launch sites keep certain distance away from cities?\n\nAlso please try to explain your findings.\n",
      "metadata": {}
    },
    {
      "cell_type": "markdown",
      "source": "# Next Steps:\n\nNow you have discovered many interesting insights related to the launch sites' location using folium, in a very interactive way. Next, you will need to build a dashboard using Ploty Dash on detailed launch records.\n",
      "metadata": {}
    },
    {
      "cell_type": "markdown",
      "source": "## Authors\n",
      "metadata": {}
    },
    {
      "cell_type": "markdown",
      "source": "[Pratiksha Verma](https://www.linkedin.com/in/pratiksha-verma-6487561b1/?utm_medium=Exinfluencer&utm_source=Exinfluencer&utm_content=000026UJ&utm_term=10006555&utm_id=NA-SkillsNetwork-Channel-SkillsNetworkCoursesIBMDS0321ENSkillsNetwork865-2022-01-01)\n",
      "metadata": {}
    },
    {
      "cell_type": "markdown",
      "source": "## Change Log\n",
      "metadata": {}
    },
    {
      "cell_type": "markdown",
      "source": "| Date (YYYY-MM-DD) | Version | Changed By      | Change Description      |\n| ----------------- | ------- | -------------   | ----------------------- |\n| 2022-11-09        | 1.0     | Pratiksha Verma | Converted initial version to Jupyterlite|\n",
      "metadata": {}
    },
    {
      "cell_type": "markdown",
      "source": "### <h3 align=\"center\"> IBM Corporation 2022. All rights reserved. <h3/>\n",
      "metadata": {}
    }
  ]
}